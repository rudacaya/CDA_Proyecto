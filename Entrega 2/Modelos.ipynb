{
 "cells": [
  {
   "cell_type": "code",
   "execution_count": 111,
   "id": "bc8270fa-1eea-49d5-9039-4e4a8b176589",
   "metadata": {},
   "outputs": [],
   "source": [
    "import pandas as pd\n",
    "import numpy as np\n",
    "\n",
    "from sklearn.preprocessing import StandardScaler\n",
    "from sklearn.preprocessing import MinMaxScaler\n",
    "\n",
    "\n",
    "from sklearn.model_selection import train_test_split\n",
    "\n",
    "\n",
    "from sklearn.linear_model import LogisticRegression\n",
    "from sklearn.ensemble import RandomForestClassifier\n",
    "from xgboost import XGBClassifier\n",
    "\n",
    "\n",
    "\n",
    "from sklearn.metrics import accuracy_score\n",
    "from sklearn.metrics import recall_score\n",
    "from sklearn.metrics import f1_score\n",
    "from sklearn.metrics import precision_score\n",
    "\n",
    "\n",
    "from sklearn.pipeline import Pipeline\n",
    "from sklearn.model_selection import GridSearchCV\n",
    "\n",
    "\n",
    "from imblearn.over_sampling import SMOTE\n",
    "\n",
    "import joblib\n",
    "\n",
    "import warnings\n",
    "warnings.filterwarnings(\"ignore\")\n",
    "\n",
    "\n",
    "import matplotlib.pyplot as plt\n",
    "%matplotlib inline\n",
    "plt.style.use('ggplot')\n",
    "\n",
    "pd.options.display.max_columns = None"
   ]
  },
  {
   "cell_type": "markdown",
   "id": "a2185f20-6240-444c-9fbd-24724ce383a9",
   "metadata": {},
   "source": [
    "----"
   ]
  },
  {
   "cell_type": "markdown",
   "id": "f44f3bb3-7166-40dd-a85e-62cd58249271",
   "metadata": {},
   "source": [
    "# **1. Lectura de datos**"
   ]
  },
  {
   "cell_type": "code",
   "execution_count": 2,
   "id": "93d85102-2ccd-4de6-b02f-c253f7f41d52",
   "metadata": {},
   "outputs": [],
   "source": [
    "df = pd.read_csv('Processed_UCI_Credit_Card.csv')"
   ]
  },
  {
   "cell_type": "code",
   "execution_count": 3,
   "id": "e6654dc8-65cb-46a6-89ca-71657c803f37",
   "metadata": {},
   "outputs": [
    {
     "data": {
      "text/plain": [
       "0.22125813449023862"
      ]
     },
     "execution_count": 3,
     "metadata": {},
     "output_type": "execute_result"
    }
   ],
   "source": [
    "df['default.payment.next.month'].sum()/len(df)"
   ]
  },
  {
   "cell_type": "code",
   "execution_count": 120,
   "id": "c7a1fa95-7ee7-4a94-9343-57cc5298a189",
   "metadata": {},
   "outputs": [
    {
     "data": {
      "text/plain": [
       "array([ 2.000e+04,  3.913e+03,  3.102e+03,  6.890e+02,  0.000e+00,\n",
       "        0.000e+00,  0.000e+00,  0.000e+00,  6.890e+02,  0.000e+00,\n",
       "        0.000e+00,  0.000e+00,  0.000e+00,  2.000e+00,  2.000e+00,\n",
       "       -1.000e+00, -1.000e+00, -2.000e+00, -2.000e+00,  2.400e+01,\n",
       "        1.000e+00,  0.000e+00,  0.000e+00,  0.000e+00,  1.000e+00,\n",
       "        1.000e+00,  0.000e+00,  0.000e+00,  1.000e+00])"
      ]
     },
     "execution_count": 120,
     "metadata": {},
     "output_type": "execute_result"
    }
   ],
   "source": [
    "df.iloc[0].values"
   ]
  },
  {
   "cell_type": "markdown",
   "id": "18237e33-667f-4542-a157-7a4ed824e937",
   "metadata": {},
   "source": [
    "----"
   ]
  },
  {
   "cell_type": "markdown",
   "id": "3e5b60cf-8c13-4ba6-95b3-6be36a9da5d8",
   "metadata": {},
   "source": [
    "# **2. Pre-procesamiento**"
   ]
  },
  {
   "cell_type": "markdown",
   "id": "a47e46bb-c3d8-48f3-8ef2-640169b90a97",
   "metadata": {},
   "source": [
    "### *2.1. Particion de datos*"
   ]
  },
  {
   "cell_type": "code",
   "execution_count": 5,
   "id": "9b119369-9910-49cc-bf5f-0324bf05f2fd",
   "metadata": {},
   "outputs": [],
   "source": [
    "X = df.drop('default.payment.next.month', axis = 1)\n",
    "y = df['default.payment.next.month']"
   ]
  },
  {
   "cell_type": "code",
   "execution_count": 6,
   "id": "abb11570-7521-4fd4-a975-d07ace779307",
   "metadata": {},
   "outputs": [],
   "source": [
    "## Train y test\n",
    "# Realizamos la base de prueba\n",
    "X_train, X_test, y_train, y_test = train_test_split(X, y, \n",
    "                                                    test_size=0.2, \n",
    "                                                    random_state=1)\n",
    "## Train y val\n",
    "# Realizamos la base de validacion\n",
    "X_train, X_val, y_train, y_val = train_test_split(X_train, y_train, \n",
    "                                                  test_size=0.25, \n",
    "                                                  random_state=1) # 0.25 x 0.8 = 0.2"
   ]
  },
  {
   "cell_type": "markdown",
   "id": "035ab697-dbbe-4b73-9b88-1ef3c181658a",
   "metadata": {},
   "source": [
    "### *2.2. Estandarizacion de los datos*"
   ]
  },
  {
   "cell_type": "code",
   "execution_count": 7,
   "id": "a612082a-88ef-4151-9b1e-30f4e62d6e31",
   "metadata": {},
   "outputs": [],
   "source": [
    "s_scaler = StandardScaler()\n",
    "X_train_scaled_s = s_scaler.fit_transform(X_train)"
   ]
  },
  {
   "cell_type": "code",
   "execution_count": 8,
   "id": "9ae45979-915d-46e9-8c13-3f8d40d6ce71",
   "metadata": {},
   "outputs": [],
   "source": [
    "mm_scaler = MinMaxScaler()\n",
    "X_train_scaled_mm = mm_scaler.fit_transform(X_train)"
   ]
  },
  {
   "cell_type": "markdown",
   "id": "42395277-452c-47dc-8fa8-ea51f548b59a",
   "metadata": {},
   "source": [
    "### *2.3. Re-balanceo de datos de entrenamiento*"
   ]
  },
  {
   "cell_type": "code",
   "execution_count": 9,
   "id": "40ff7bd8-4c66-4603-bd7e-6a399369f0b9",
   "metadata": {},
   "outputs": [
    {
     "data": {
      "text/plain": [
       "0.2208131709216308"
      ]
     },
     "execution_count": 9,
     "metadata": {},
     "output_type": "execute_result"
    }
   ],
   "source": [
    "y_train.sum()/len(y_train)"
   ]
  },
  {
   "cell_type": "code",
   "execution_count": 12,
   "id": "7c290a18-b92d-4721-9092-09b2524cf44a",
   "metadata": {},
   "outputs": [],
   "source": [
    "sm = SMOTE(random_state=42)\n",
    "\n",
    "X_res, y_res = sm.fit_resample(X_train, y_train)"
   ]
  },
  {
   "cell_type": "markdown",
   "id": "2804f774-1377-4325-8fd7-541bb1a108fa",
   "metadata": {},
   "source": [
    "#### *2.3.1. Estandarizacion de datos Re-balanceados*"
   ]
  },
  {
   "cell_type": "code",
   "execution_count": 13,
   "id": "9e56fc33-0f2f-4ac0-814b-1870d054e845",
   "metadata": {},
   "outputs": [],
   "source": [
    "s_scaler_res = StandardScaler()\n",
    "X_train_res_scaled_s = s_scaler_res.fit_transform(X_res)"
   ]
  },
  {
   "cell_type": "code",
   "execution_count": 14,
   "id": "0410d30d-ac29-42c3-81e1-c46b5422380e",
   "metadata": {},
   "outputs": [],
   "source": [
    "mm_scaler_res = MinMaxScaler()\n",
    "X_train_res_scaled_mm = mm_scaler_res.fit_transform(X_res)"
   ]
  },
  {
   "cell_type": "markdown",
   "id": "5aa78fb4-d2a6-4952-9f3b-6744cc99f4e4",
   "metadata": {},
   "source": [
    "*Guardamos todos los scalers en una lista*"
   ]
  },
  {
   "cell_type": "code",
   "execution_count": 15,
   "id": "828ff5c4-d3f6-47f6-a65b-0705032087a2",
   "metadata": {},
   "outputs": [],
   "source": [
    "scalers = [s_scaler, mm_scaler, s_scaler_res, mm_scaler_res]"
   ]
  },
  {
   "cell_type": "markdown",
   "id": "3b80ec19-9792-4a92-b21c-20d1f638e472",
   "metadata": {},
   "source": [
    "----"
   ]
  },
  {
   "cell_type": "markdown",
   "id": "4481a54f-af9c-495f-b896-b481d4630169",
   "metadata": {},
   "source": [
    "# **3. Modelos**"
   ]
  },
  {
   "cell_type": "code",
   "execution_count": 16,
   "id": "65c46b73-7877-443a-8530-764668d82508",
   "metadata": {},
   "outputs": [],
   "source": [
    "weight = {0:(len(y_train) - y_train.sum()), 1:y_train.sum()}"
   ]
  },
  {
   "cell_type": "markdown",
   "id": "73d48f86-d552-4bc7-810d-4e6a1eb4d7d4",
   "metadata": {},
   "source": [
    "## **3.1. Regresion Logistica**"
   ]
  },
  {
   "cell_type": "markdown",
   "id": "00dca149-34a0-4d23-a793-c0159856bdac",
   "metadata": {},
   "source": [
    "#### 3.1.1. RL - Standard Scaler"
   ]
  },
  {
   "cell_type": "code",
   "execution_count": 17,
   "id": "76f2308d-87d7-45d2-bece-8c6becd31810",
   "metadata": {},
   "outputs": [],
   "source": [
    "lr_ss = LogisticRegression(max_iter = 500, class_weight=weight)\n",
    "lr_ss.fit(X_train_scaled_s, y_train);"
   ]
  },
  {
   "cell_type": "markdown",
   "id": "30da0902-c096-4191-a6f8-fe6bdd0a1501",
   "metadata": {},
   "source": [
    "#### 3.1.2. RL - MinMax Scaler"
   ]
  },
  {
   "cell_type": "code",
   "execution_count": 18,
   "id": "7cb7a78c-9659-4238-a19f-8e71575b6b84",
   "metadata": {},
   "outputs": [],
   "source": [
    "lr_mms = LogisticRegression(max_iter = 500, class_weight=weight)\n",
    "lr_mms.fit(X_train_scaled_mm, y_train);"
   ]
  },
  {
   "cell_type": "markdown",
   "id": "ee5e2847-09f3-4be4-be8d-dcfcf48bcda4",
   "metadata": {},
   "source": [
    "#### 3.1.3. RL - Rebalanceo - Standard Scaler"
   ]
  },
  {
   "cell_type": "code",
   "execution_count": 19,
   "id": "7535e0d5-ff31-4362-a2c2-1b57a2200b36",
   "metadata": {},
   "outputs": [],
   "source": [
    "lr_res_ss = LogisticRegression(max_iter = 500)\n",
    "lr_res_ss.fit(X_train_res_scaled_s, y_res);"
   ]
  },
  {
   "cell_type": "markdown",
   "id": "f05b402f-5387-4310-915e-a4d495d0413d",
   "metadata": {},
   "source": [
    "#### 3.1.4. RL - Rebalanceo - MinMax Scaler"
   ]
  },
  {
   "cell_type": "code",
   "execution_count": 20,
   "id": "3f63d93c-c434-4116-9f8b-34f9f53ee601",
   "metadata": {},
   "outputs": [],
   "source": [
    "lr_res_mms = LogisticRegression(max_iter = 500)\n",
    "lr_res_mms.fit(X_train_res_scaled_mm, y_res);"
   ]
  },
  {
   "cell_type": "markdown",
   "id": "5b4d03fb-0d1d-4b90-a197-cd7ff4ad3d38",
   "metadata": {},
   "source": [
    "*Guardamos los modelos en una lista*"
   ]
  },
  {
   "cell_type": "code",
   "execution_count": 21,
   "id": "7812b32e-b6ac-45cc-a8a1-8f017a775b24",
   "metadata": {},
   "outputs": [],
   "source": [
    "rl_models = [lr_ss, lr_mms, lr_res_ss, lr_res_mms]"
   ]
  },
  {
   "cell_type": "markdown",
   "id": "59c64c11-7483-4e02-b1e1-c2a2d10e65f0",
   "metadata": {},
   "source": [
    "## **3.2. Random Forest**"
   ]
  },
  {
   "cell_type": "markdown",
   "id": "7caa6813-1fe4-410d-bd79-8b03e770d061",
   "metadata": {},
   "source": [
    "#### 3.2.1. RF - Standard Scaler"
   ]
  },
  {
   "cell_type": "code",
   "execution_count": 22,
   "id": "e33cdb50-61ef-48f4-8474-ad2fbb5ee491",
   "metadata": {},
   "outputs": [],
   "source": [
    "rf_ss = RandomForestClassifier(class_weight=weight)\n",
    "rf_ss.fit(X_train_scaled_s, y_train);"
   ]
  },
  {
   "cell_type": "markdown",
   "id": "eb2c5e1f-f45c-4970-898c-0cb67eefe492",
   "metadata": {},
   "source": [
    "#### 3.2.2. RF - MinMax Scaler"
   ]
  },
  {
   "cell_type": "code",
   "execution_count": 23,
   "id": "612c0c55-cddf-49a7-8327-b874f94ee8b3",
   "metadata": {},
   "outputs": [],
   "source": [
    "rf_mms = RandomForestClassifier(class_weight=weight)\n",
    "rf_mms.fit(X_train_scaled_mm, y_train);"
   ]
  },
  {
   "cell_type": "markdown",
   "id": "bc7d4750-be23-4da9-822d-f92cf1de64bc",
   "metadata": {},
   "source": [
    "#### 3.2.3. RF - Rebalanceo - Standard Scaler"
   ]
  },
  {
   "cell_type": "code",
   "execution_count": 24,
   "id": "5ba3c00c-06d7-46d9-b4d8-52827643f538",
   "metadata": {},
   "outputs": [],
   "source": [
    "rf_res_ss = RandomForestClassifier()\n",
    "rf_res_ss.fit(X_train_res_scaled_s, y_res);"
   ]
  },
  {
   "cell_type": "markdown",
   "id": "a55b3cc5-082f-460f-8fbd-c86059574a3c",
   "metadata": {},
   "source": [
    "#### 3.2.4. RF - Rebalanceo - MinMax Scaler"
   ]
  },
  {
   "cell_type": "code",
   "execution_count": 25,
   "id": "4cdfc144-0a43-43d9-af3f-32b610dbacbc",
   "metadata": {},
   "outputs": [],
   "source": [
    "rf_res_mms = RandomForestClassifier()\n",
    "rf_res_mms.fit(X_train_res_scaled_mm, y_res);"
   ]
  },
  {
   "cell_type": "markdown",
   "id": "396cd746-52b3-45d8-88d1-8d2ecd97ca88",
   "metadata": {},
   "source": [
    "*Guardamos los modelos en una lista*"
   ]
  },
  {
   "cell_type": "code",
   "execution_count": 26,
   "id": "5bedafbb-7022-41ad-a738-a09e4ec4817b",
   "metadata": {},
   "outputs": [],
   "source": [
    "rf_models = [rf_ss, rf_mms, rf_res_ss, rf_res_mms]"
   ]
  },
  {
   "cell_type": "markdown",
   "id": "e7e3518b-961f-4f7d-a8a7-cc65cf1586fd",
   "metadata": {},
   "source": [
    "## **3.3. Gradient Boosting**"
   ]
  },
  {
   "cell_type": "markdown",
   "id": "be5e52c1-11f9-4b6d-bdde-426cfaef6097",
   "metadata": {},
   "source": [
    "#### 3.3.1. GB - Standard Scaler"
   ]
  },
  {
   "cell_type": "code",
   "execution_count": 27,
   "id": "686a6669-8cb1-4d03-924c-c50bff7d4249",
   "metadata": {},
   "outputs": [
    {
     "name": "stderr",
     "output_type": "stream",
     "text": [
      "/home/ruben/anaconda3/lib/python3.8/site-packages/xgboost/sklearn.py:1224: UserWarning: The use of label encoder in XGBClassifier is deprecated and will be removed in a future release. To remove this warning, do the following: 1) Pass option use_label_encoder=False when constructing XGBClassifier object; and 2) Encode your labels (y) as integers starting with 0, i.e. 0, 1, 2, ..., [num_class - 1].\n",
      "  warnings.warn(label_encoder_deprecation_msg, UserWarning)\n"
     ]
    }
   ],
   "source": [
    "xgb_ss = XGBClassifier(eval_metric = 'auc')\n",
    "xgb_ss.fit(X_train_scaled_s, y_train);"
   ]
  },
  {
   "cell_type": "markdown",
   "id": "b084d4d8-6bc6-4cf7-9ce1-c1e2d741d8c0",
   "metadata": {},
   "source": [
    "#### 3.3.2. GB - MinMax Scaler"
   ]
  },
  {
   "cell_type": "code",
   "execution_count": 28,
   "id": "db6fef92-c3d8-4da8-935f-97acc696497f",
   "metadata": {},
   "outputs": [],
   "source": [
    "xgb_mms = XGBClassifier(eval_metric = 'auc')\n",
    "xgb_mms.fit(X_train_scaled_mm, y_train);"
   ]
  },
  {
   "cell_type": "markdown",
   "id": "253d8fab-0b60-4f18-bd8d-4c4f9dab74c9",
   "metadata": {},
   "source": [
    "#### 3.3.3. GB - Rebalanceo - Standard Scaler"
   ]
  },
  {
   "cell_type": "code",
   "execution_count": 29,
   "id": "917c6e8a-2c4f-4aae-b31c-094956b1c305",
   "metadata": {},
   "outputs": [],
   "source": [
    "xgb_res_ss = XGBClassifier(eval_metric = 'auc')\n",
    "xgb_res_ss.fit(X_train_res_scaled_s, y_res);"
   ]
  },
  {
   "cell_type": "markdown",
   "id": "8cb31d0e-466c-4cd6-b220-0411553725f7",
   "metadata": {},
   "source": [
    "#### 3.3.4. GB - Rebalanceo - MinMax Scaler"
   ]
  },
  {
   "cell_type": "code",
   "execution_count": 30,
   "id": "a1fa8e24-e5ef-4caf-9433-9f8e10778333",
   "metadata": {},
   "outputs": [],
   "source": [
    "xgb_res_mms = XGBClassifier(eval_metric = 'auc')\n",
    "xgb_res_mms.fit(X_train_res_scaled_mm, y_res);"
   ]
  },
  {
   "cell_type": "markdown",
   "id": "70f2367a-2e1c-4772-93fd-7faa9d0ddb5d",
   "metadata": {},
   "source": [
    "*Guardamos los modelos en una lista*"
   ]
  },
  {
   "cell_type": "code",
   "execution_count": 31,
   "id": "0c770fc5-3392-41c9-84cc-cc2cd24bbbfa",
   "metadata": {},
   "outputs": [],
   "source": [
    "xgb_models = [xgb_ss, xgb_mms, xgb_res_ss, xgb_res_mms]"
   ]
  },
  {
   "cell_type": "markdown",
   "id": "c45d89d9-6f2a-4627-a323-5f7b3bddcbb5",
   "metadata": {},
   "source": [
    "----"
   ]
  },
  {
   "cell_type": "markdown",
   "id": "21b81edb-f4e4-4492-861f-da6cc66b9be6",
   "metadata": {},
   "source": [
    "# **4. Evaluacion**\n",
    "Con los datos de validacion"
   ]
  },
  {
   "cell_type": "code",
   "execution_count": 32,
   "id": "7e47e609-c5af-45b1-9cca-1ee1dc4422c7",
   "metadata": {},
   "outputs": [],
   "source": [
    "# Escalamos los datos de validacion\n",
    "scaled_X_vals = []\n",
    "for scaler in scalers:\n",
    "    scaled_X_vals.append(scaler.transform(X_val))"
   ]
  },
  {
   "cell_type": "code",
   "execution_count": 33,
   "id": "9b5ea244-0035-4d6e-bcc5-a52875490866",
   "metadata": {},
   "outputs": [],
   "source": [
    "y_pred_lr = []\n",
    "y_pred_rf = []\n",
    "y_pred_xgb = []\n",
    "\n",
    "for i, X_val_scaled in enumerate(scaled_X_vals):\n",
    "    y_pred_lr.append(rl_models[i].predict(X_val_scaled))\n",
    "    y_pred_rf.append(rf_models[i].predict(X_val_scaled))\n",
    "    y_pred_xgb.append(xgb_models[i].predict(X_val_scaled))"
   ]
  },
  {
   "cell_type": "code",
   "execution_count": 35,
   "id": "d9acf064-581d-4db2-a43c-38f5118eb0a2",
   "metadata": {},
   "outputs": [],
   "source": [
    "acc_lr = []\n",
    "acc_rf = []\n",
    "acc_xgb = []\n",
    "\n",
    "pr_lr = []\n",
    "pr_rf = []\n",
    "pr_xgb = []\n",
    "\n",
    "rec_lr = []\n",
    "rec_rf = []\n",
    "rec_xgb = []\n",
    "\n",
    "f1_lr = []\n",
    "f1_rf = []\n",
    "f1_xgb = []\n",
    "\n",
    "for i in range(4):\n",
    "    \n",
    "    acc_lr.append(accuracy_score(y_val, y_pred_lr[i]))\n",
    "    acc_rf.append(accuracy_score(y_val, y_pred_rf[i]))\n",
    "    acc_xgb.append(accuracy_score(y_val,  y_pred_xgb[i]))\n",
    "    \n",
    "    pr_lr.append(precision_score(y_val,  y_pred_lr[i]))\n",
    "    pr_rf.append(precision_score(y_val,  y_pred_rf[i]))\n",
    "    pr_xgb.append(precision_score(y_val,  y_pred_xgb[i]))\n",
    "    \n",
    "    rec_lr.append(recall_score(y_val, y_pred_lr[i]))\n",
    "    rec_rf.append(recall_score(y_val, y_pred_rf[i]))\n",
    "    rec_xgb.append(recall_score(y_val, y_pred_xgb[i]))\n",
    "\n",
    "    f1_lr.append(f1_score(y_val, y_pred_lr[i]))\n",
    "    f1_rf.append(f1_score(y_val, y_pred_rf[i]))\n",
    "    f1_xgb.append(f1_score(y_val, y_pred_xgb[i]))"
   ]
  },
  {
   "cell_type": "code",
   "execution_count": 52,
   "id": "1d1cf5c7-74f1-4d8c-8e60-8c3e78a0cd32",
   "metadata": {},
   "outputs": [
    {
     "data": {
      "image/png": "[encoded data removed]",
      "text/plain": [
       "<Figure size 576x432 with 1 Axes>"
      ]
     },
     "metadata": {},
     "output_type": "display_data"
    }
   ],
   "source": [
    "x_labels = ['Standar-Scaler', 'MinMax-Scaler', 'SMOTE + Standar-Scaler', 'SMOTE + MinMax-Scaler']\n",
    "\n",
    "fig, ax = plt.subplots(figsize=(8,6))\n",
    "plt.plot(x_labels, acc_lr, '-o', c = 'green')\n",
    "plt.plot(x_labels, acc_rf, '-o', c = 'red')\n",
    "plt.plot(x_labels, acc_xgb, '-o', c = 'blue')\n",
    "\n",
    "\n",
    "ax.legend(['Log. Regression', 'Random Forest', 'XGBoost'])\n",
    "plt.xlabel('Pre-procesamiento')\n",
    "plt.title('Accuracy');"
   ]
  },
  {
   "cell_type": "code",
   "execution_count": 54,
   "id": "62dd3769-eda3-4cdf-960e-9f75a0889802",
   "metadata": {},
   "outputs": [
    {
     "data": {
      "image/png": "[encoded data removed]",
      "text/plain": [
       "<Figure size 576x432 with 1 Axes>"
      ]
     },
     "metadata": {},
     "output_type": "display_data"
    }
   ],
   "source": [
    "fig, ax = plt.subplots(figsize=(8,6))\n",
    "\n",
    "plt.plot(x_labels, pr_lr, '-o', c = 'green')\n",
    "plt.plot(x_labels, pr_rf, '-o', c = 'red')\n",
    "plt.plot(x_labels, pr_xgb, '-o', c = 'blue')\n",
    "\n",
    "ax.legend(['Log. Regression', 'Random Forest', 'XGBoost'])\n",
    "plt.xlabel('Pre-procesamiento')\n",
    "plt.title('Precision');"
   ]
  },
  {
   "cell_type": "code",
   "execution_count": 55,
   "id": "02ca8546-06c8-4847-9d3e-8223393e2399",
   "metadata": {},
   "outputs": [
    {
     "data": {
      "image/png": "[encoded data removed]",
      "text/plain": [
       "<Figure size 576x432 with 1 Axes>"
      ]
     },
     "metadata": {},
     "output_type": "display_data"
    }
   ],
   "source": [
    "fig, ax = plt.subplots(figsize=(8,6))\n",
    "\n",
    "plt.plot(x_labels, rec_lr, '-o', c = 'green')\n",
    "plt.plot(x_labels, rec_rf, '-o', c = 'red')\n",
    "plt.plot(x_labels, rec_xgb, '-o', c = 'blue')\n",
    "\n",
    "ax.legend(['Log. Regression', 'Random Forest', 'XGBoost'])\n",
    "plt.xlabel('Pre-procesamiento')\n",
    "plt.title('Recall');"
   ]
  },
  {
   "cell_type": "code",
   "execution_count": 212,
   "id": "1c050430-49fc-466f-a8f1-97e26a8b62de",
   "metadata": {},
   "outputs": [
    {
     "data": {
      "text/plain": [
       "[0.3686186186186186,\n",
       " 0.36786786786786785,\n",
       " 0.42342342342342343,\n",
       " 0.42342342342342343]"
      ]
     },
     "execution_count": 212,
     "metadata": {},
     "output_type": "execute_result"
    }
   ],
   "source": [
    "rec_xgb"
   ]
  },
  {
   "cell_type": "code",
   "execution_count": 213,
   "id": "16cdc39d-8f50-478b-8efc-ceec5a5379b8",
   "metadata": {},
   "outputs": [
    {
     "data": {
      "text/plain": [
       "[0.8114466878024362,\n",
       " 0.8112798264642083,\n",
       " 0.7989320874353413,\n",
       " 0.7989320874353413]"
      ]
     },
     "execution_count": 213,
     "metadata": {},
     "output_type": "execute_result"
    }
   ],
   "source": [
    "acc_xgb"
   ]
  },
  {
   "cell_type": "code",
   "execution_count": 214,
   "id": "bcb03ac3-ecd8-4890-9630-489498760d68",
   "metadata": {},
   "outputs": [
    {
     "data": {
      "text/plain": [
       "[0.6294871794871795,\n",
       " 0.6290115532734275,\n",
       " 0.5634365634365635,\n",
       " 0.5634365634365635]"
      ]
     },
     "execution_count": 214,
     "metadata": {},
     "output_type": "execute_result"
    }
   ],
   "source": [
    "pr_xgb"
   ]
  },
  {
   "cell_type": "code",
   "execution_count": 215,
   "id": "247d1dce-ed98-4531-880f-86ffc1b38229",
   "metadata": {},
   "outputs": [
    {
     "data": {
      "text/plain": [
       "[0.4649621212121212,\n",
       " 0.4642349597347229,\n",
       " 0.48349764252036004,\n",
       " 0.48349764252036004]"
      ]
     },
     "execution_count": 215,
     "metadata": {},
     "output_type": "execute_result"
    }
   ],
   "source": [
    "f1_xgb"
   ]
  },
  {
   "cell_type": "code",
   "execution_count": 56,
   "id": "f70affcc-3fa7-401d-ac73-eb4c7dd17ae2",
   "metadata": {},
   "outputs": [
    {
     "data": {
      "image/png": "[encoded data removed]",
      "text/plain": [
       "<Figure size 576x432 with 1 Axes>"
      ]
     },
     "metadata": {},
     "output_type": "display_data"
    }
   ],
   "source": [
    "fig, ax = plt.subplots(figsize=(8,6))\n",
    "\n",
    "plt.plot(x_labels, f1_lr, '-o', c = 'green')\n",
    "plt.plot(x_labels, f1_rf, '-o', c = 'red')\n",
    "plt.plot(x_labels, f1_xgb, '-o', c = 'blue')\n",
    "\n",
    "ax.legend(['Log. Regression', 'Random Forest', 'XGBoost'])\n",
    "plt.xlabel('Pre-procesamiento')\n",
    "plt.title('F1-Score');"
   ]
  },
  {
   "cell_type": "code",
   "execution_count": null,
   "id": "45b17ea5-0c31-4a6e-8b61-d45ae2c46afc",
   "metadata": {},
   "outputs": [],
   "source": [
    "fig, ax = plt.subplots(figsize=(10,7))\n",
    "\n",
    "plt.plot([str(i) for i in range(1,len(data.columns))], accuracy_dt, '-x', c = 'green')\n",
    "plt.plot([str(i) for i in range(1,len(data.columns))], accuracy_rf, '-o', c = 'red')\n",
    "plt.plot([str(i) for i in range(1,len(data.columns))], accuracy_xg, '--.', c = 'blue')\n",
    "\n",
    "ax.legend(['Decision Tree', 'Random Forest', 'XGBoost'])\n",
    "plt.xlabel('Cantidad de variables')\n",
    "plt.ylabel('Accuracy');"
   ]
  },
  {
   "cell_type": "markdown",
   "id": "a5445209-1176-4f7e-8eda-01b6fab7d70b",
   "metadata": {},
   "source": [
    "----"
   ]
  },
  {
   "cell_type": "markdown",
   "id": "89a55213-65a1-4b1e-ae6a-d75ef7e329ca",
   "metadata": {},
   "source": [
    "# **5. Sintonizacion de Hiperparametros**\n",
    "### 5.1. Mejor Regresion Logistica"
   ]
  },
  {
   "cell_type": "code",
   "execution_count": 108,
   "id": "7257c65a-68d1-48ef-8a42-d99c7bc41f3b",
   "metadata": {},
   "outputs": [
    {
     "data": {
      "text/plain": [
       "GridSearchCV(estimator=Pipeline(steps=[('sc', StandardScaler()),\n",
       "                                       ('clf',\n",
       "                                        LogisticRegression(max_iter=500))]),\n",
       "             param_grid={'clf__C': array([1.00000000e-04, 7.74263683e-04, 5.99484250e-03, 4.64158883e-02,\n",
       "       3.59381366e-01, 2.78255940e+00, 2.15443469e+01, 1.66810054e+02,\n",
       "       1.29154967e+03, 1.00000000e+04]),\n",
       "                         'clf__penalty': ['none', 'l2']})"
      ]
     },
     "execution_count": 108,
     "metadata": {},
     "output_type": "execute_result"
    }
   ],
   "source": [
    "pipeline_lr = Pipeline([\n",
    "    ('sc', StandardScaler()),\n",
    "    ('clf', LogisticRegression(max_iter = 500))\n",
    "    ])\n",
    "\n",
    "parameters = {\n",
    "    'clf__penalty': ['none', 'l2'],\n",
    "    'clf__C': np.logspace(-4, 4, 10),\n",
    "}\n",
    "\n",
    "cv_lr = GridSearchCV(pipeline_lr, param_grid=parameters, verbose=0)\n",
    "cv_lr.fit(X_res, y_res)"
   ]
  },
  {
   "cell_type": "code",
   "execution_count": 200,
   "id": "4c4e1070-0b75-4d71-8668-59dc871df9cd",
   "metadata": {},
   "outputs": [
    {
     "data": {
      "text/plain": [
       "{'clf__C': 1291.5496650148827, 'clf__penalty': 'l2'}"
      ]
     },
     "execution_count": 200,
     "metadata": {},
     "output_type": "execute_result"
    }
   ],
   "source": [
    "cv_lr.best_params_"
   ]
  },
  {
   "cell_type": "code",
   "execution_count": 103,
   "id": "6d793e6a-5881-424b-8bb2-1e83035e8e06",
   "metadata": {},
   "outputs": [
    {
     "name": "stdout",
     "output_type": "stream",
     "text": [
      "\n",
      "Accuracy: 0.7960954446854663 \n",
      " \n",
      "Precision: 0.5605022831050228 \n",
      " \n",
      "Recall: 0.3697289156626506 \n",
      " \n",
      "F1 Score: 0.44555353901996364 \n",
      "\n"
     ]
    }
   ],
   "source": [
    "y_pred_final = pd.DataFrame(cv_lr.predict(X_test))\n",
    "print(\n",
    "'''\n",
    "Accuracy: {} \\n \n",
    "Precision: {} \\n \n",
    "Recall: {} \\n \n",
    "F1 Score: {} \\n'''.format(accuracy_score(y_test, y_pred_final),\n",
    "                                  precision_score(y_test, y_pred_final),\n",
    "                                  recall_score(y_test, y_pred_final),\n",
    "                                  f1_score(y_test, y_pred_final))\n",
    ")"
   ]
  },
  {
   "cell_type": "markdown",
   "id": "8a895f03-885b-4d6b-a611-7609d795d0ef",
   "metadata": {},
   "source": [
    "### 5.2. Mejor Random Forest"
   ]
  },
  {
   "cell_type": "code",
   "execution_count": 88,
   "id": "550d711c-66f9-4af2-adf7-a95fdc10c233",
   "metadata": {},
   "outputs": [
    {
     "data": {
      "text/plain": [
       "GridSearchCV(estimator=Pipeline(steps=[('sc', MinMaxScaler()),\n",
       "                                       ('clf', RandomForestClassifier())]),\n",
       "             param_grid={'clf__criterion': ['gini', 'entropy'],\n",
       "                         'clf__min_samples_leaf': [1, 5, 10],\n",
       "                         'clf__min_samples_split': [2, 10, 100]})"
      ]
     },
     "execution_count": 88,
     "metadata": {},
     "output_type": "execute_result"
    }
   ],
   "source": [
    "pipeline_rf = Pipeline([\n",
    "    ('sc', MinMaxScaler()),\n",
    "    ('clf', RandomForestClassifier())\n",
    "    ])\n",
    "\n",
    "parameters = {\n",
    "    'clf__criterion': ['gini', 'entropy'],\n",
    "    'clf__min_samples_split': [2, 10, 100],\n",
    "    'clf__min_samples_leaf': [1, 5, 10]\n",
    "}\n",
    "\n",
    "cv_rf = GridSearchCV(pipeline_rf, param_grid=parameters, verbose=0)\n",
    "cv_rf.fit(X_train, y_train)"
   ]
  },
  {
   "cell_type": "code",
   "execution_count": 201,
   "id": "9c1561d2-c633-4ca3-9f84-ef9c7cd84955",
   "metadata": {},
   "outputs": [
    {
     "data": {
      "text/plain": [
       "{'clf__criterion': 'entropy',\n",
       " 'clf__min_samples_leaf': 1,\n",
       " 'clf__min_samples_split': 100}"
      ]
     },
     "execution_count": 201,
     "metadata": {},
     "output_type": "execute_result"
    }
   ],
   "source": [
    "cv.best_params_"
   ]
  },
  {
   "cell_type": "code",
   "execution_count": 92,
   "id": "fba30115-9f18-4e29-b075-462fcbc521ac",
   "metadata": {},
   "outputs": [
    {
     "name": "stdout",
     "output_type": "stream",
     "text": [
      "\n",
      "Accuracy: 0.8184548640080094 \n",
      " \n",
      "Precision: 0.6621621621621622 \n",
      " \n",
      "Recall: 0.3689759036144578 \n",
      " \n",
      "F1 Score: 0.47388781431334615 \n",
      "\n"
     ]
    }
   ],
   "source": [
    "y_pred_final = pd.DataFrame(cv_rf.predict(X_test))\n",
    "print(\n",
    "'''\n",
    "Accuracy: {} \\n \n",
    "Precision: {} \\n \n",
    "Recall: {} \\n \n",
    "F1 Score: {} \\n'''.format(accuracy_score(y_test, y_pred_final),\n",
    "                                  precision_score(y_test, y_pred_final),\n",
    "                                  recall_score(y_test, y_pred_final),\n",
    "                                  f1_score(y_test, y_pred_final))\n",
    ")"
   ]
  },
  {
   "cell_type": "markdown",
   "id": "2df9d44b-52ab-48e8-881e-b0d43f287623",
   "metadata": {},
   "source": [
    "### 5.3. Mejor XGBoost"
   ]
  },
  {
   "cell_type": "code",
   "execution_count": 107,
   "id": "3154d2ac-29f0-4f63-a8fa-e20a61f67b9c",
   "metadata": {},
   "outputs": [
    {
     "data": {
      "text/plain": [
       "GridSearchCV(estimator=Pipeline(steps=[('sc', MinMaxScaler()),\n",
       "                                       ('clf',\n",
       "                                        XGBClassifier(base_score=None,\n",
       "                                                      booster=None,\n",
       "                                                      colsample_bylevel=None,\n",
       "                                                      colsample_bynode=None,\n",
       "                                                      colsample_bytree=None,\n",
       "                                                      enable_categorical=False,\n",
       "                                                      eval_metric='auc',\n",
       "                                                      gamma=None, gpu_id=None,\n",
       "                                                      importance_type=None,\n",
       "                                                      interaction_constraints=None,\n",
       "                                                      learning_rate=None,\n",
       "                                                      max_delta_step=None,\n",
       "                                                      max_depth=None,\n",
       "                                                      mi...\n",
       "                                                      missing=nan,\n",
       "                                                      monotone_constraints=None,\n",
       "                                                      n_estimators=100,\n",
       "                                                      n_jobs=None,\n",
       "                                                      num_parallel_tree=None,\n",
       "                                                      predictor=None,\n",
       "                                                      random_state=None,\n",
       "                                                      reg_alpha=None,\n",
       "                                                      reg_lambda=None,\n",
       "                                                      scale_pos_weight=None,\n",
       "                                                      subsample=None,\n",
       "                                                      tree_method=None,\n",
       "                                                      validate_parameters=None,\n",
       "                                                      verbosity=None))]),\n",
       "             param_grid={'clf__gamma': [0.5, 1, 1.5, 2, 5],\n",
       "                         'clf__max_depth': [3, 4, 5],\n",
       "                         'clf__min_child_weight': [1, 5, 10]})"
      ]
     },
     "execution_count": 107,
     "metadata": {},
     "output_type": "execute_result"
    }
   ],
   "source": [
    "pipeline_xgb = Pipeline([\n",
    "    ('sc', StandardScaler()),\n",
    "    ('clf', XGBClassifier(eval_metric = 'auc'))\n",
    "    ])\n",
    "\n",
    "parameters = {\n",
    "    'clf__min_child_weight': [1, 5, 10],\n",
    "    'clf__gamma': [0.5, 1, 1.5, 2, 5],\n",
    "    'clf__max_depth': [3, 4, 5]\n",
    "}\n",
    "\n",
    "cv_xgb = GridSearchCV(pipeline_xgb, param_grid=parameters, verbose=0)\n",
    "cv_xgb.fit(X_train, y_train)"
   ]
  },
  {
   "cell_type": "code",
   "execution_count": 202,
   "id": "5782a213-3b33-4734-93c2-739ad3ab3969",
   "metadata": {},
   "outputs": [
    {
     "data": {
      "text/plain": [
       "{'clf__gamma': 5, 'clf__max_depth': 3, 'clf__min_child_weight': 1}"
      ]
     },
     "execution_count": 202,
     "metadata": {},
     "output_type": "execute_result"
    }
   ],
   "source": [
    "cv_xgb.best_params_"
   ]
  },
  {
   "cell_type": "code",
   "execution_count": 109,
   "id": "78557435-f6db-4fe5-a4f8-25347d667f07",
   "metadata": {},
   "outputs": [
    {
     "name": "stdout",
     "output_type": "stream",
     "text": [
      "\n",
      "Accuracy: 0.8179542799933256 \n",
      " \n",
      "Precision: 0.6612244897959184 \n",
      " \n",
      "Recall: 0.36596385542168675 \n",
      " \n",
      "F1 Score: 0.4711585070285991 \n",
      "\n"
     ]
    }
   ],
   "source": [
    "y_pred_final = pd.DataFrame(cv_xgb.predict(X_test))\n",
    "print(\n",
    "'''\n",
    "Accuracy: {} \\n \n",
    "Precision: {} \\n \n",
    "Recall: {} \\n \n",
    "F1 Score: {} \\n'''.format(accuracy_score(y_test, y_pred_final),\n",
    "                                  precision_score(y_test, y_pred_final),\n",
    "                                  recall_score(y_test, y_pred_final),\n",
    "                                  f1_score(y_test, y_pred_final))\n",
    ")"
   ]
  },
  {
   "cell_type": "code",
   "execution_count": null,
   "id": "33427c90-9d03-49be-a0e4-f09b09df257b",
   "metadata": {},
   "outputs": [],
   "source": []
  },
  {
   "cell_type": "code",
   "execution_count": 219,
   "id": "5e68478b-9ded-442e-afaf-67a4b9c71677",
   "metadata": {},
   "outputs": [],
   "source": [
    "accs = []\n",
    "prec = []\n",
    "recs = []\n",
    "f1s = []\n",
    "\n",
    "y_pred_final = pd.DataFrame(cv_lr.predict(X_test))\n",
    "accs.append(accuracy_score(y_test, y_pred_final))\n",
    "prec.append(precision_score(y_test, y_pred_final))\n",
    "recs.append(recall_score(y_test, y_pred_final))\n",
    "f1s.append(f1_score(y_test, y_pred_final))"
   ]
  },
  {
   "cell_type": "code",
   "execution_count": 220,
   "id": "dbb5ff2d-5d38-4bfc-8101-6bad22d83798",
   "metadata": {},
   "outputs": [],
   "source": [
    "y_pred_final = pd.DataFrame(cv_rf.predict(X_test))\n",
    "accs.append(accuracy_score(y_test, y_pred_final))\n",
    "prec.append(precision_score(y_test, y_pred_final))\n",
    "recs.append(recall_score(y_test, y_pred_final))\n",
    "f1s.append(f1_score(y_test, y_pred_final))"
   ]
  },
  {
   "cell_type": "code",
   "execution_count": 221,
   "id": "e5f1a8a5-5b3d-421b-be76-ddb49d02dc92",
   "metadata": {},
   "outputs": [],
   "source": [
    "y_pred_final = pd.DataFrame(cv_xgb.predict(X_test))\n",
    "accs.append(accuracy_score(y_test, y_pred_final))\n",
    "prec.append(precision_score(y_test, y_pred_final))\n",
    "recs.append(recall_score(y_test, y_pred_final))\n",
    "f1s.append(f1_score(y_test, y_pred_final))"
   ]
  },
  {
   "cell_type": "code",
   "execution_count": 229,
   "id": "64dbda77-7eb2-4607-976b-6ee4de3ce071",
   "metadata": {},
   "outputs": [
    {
     "data": {
      "image/png": "[encoded data removed]",
      "text/plain": [
       "<Figure size 504x360 with 1 Axes>"
      ]
     },
     "metadata": {},
     "output_type": "display_data"
    }
   ],
   "source": [
    "x_labels = ['Log. Regression', 'Random Forest', 'XGBoost']\n",
    "\n",
    "fig, ax = plt.subplots(figsize=(7,5))\n",
    "plt.plot(x_labels, accs, 'o', c = 'green')\n",
    "plt.plot(x_labels, prec, 'o', c = 'red')\n",
    "plt.plot(x_labels, recs, 'o', c = 'blue')\n",
    "plt.plot(x_labels, f1s, 'o', c = 'black')\n",
    "\n",
    "\n",
    "ax.legend(['Accuracy', 'Precision', 'Recall', 'F1-Score'])\n",
    "plt.xlabel('Modelo')\n",
    "plt.title('Metricas');\n",
    "plt.savefig('imgs/modelos.png')"
   ]
  },
  {
   "cell_type": "code",
   "execution_count": 239,
   "id": "738e9c3b-b2f9-4700-bc40-721c52872631",
   "metadata": {},
   "outputs": [
    {
     "data": {
      "text/plain": [
       "array([4.90465000e-02, 4.25538326e-02, 3.60321875e-02, 3.56372975e-02,\n",
       "       3.27153724e-02, 3.10099524e-02, 3.02200496e-02, 5.08097067e-02,\n",
       "       4.29540593e-02, 3.48296588e-02, 3.26354197e-02, 2.96705604e-02,\n",
       "       3.11234461e-02, 2.09264365e-01, 9.82156015e-02, 5.73252459e-02,\n",
       "       3.89573874e-02, 3.71553673e-02, 3.41238073e-02, 2.64491251e-02,\n",
       "       3.49413554e-03, 2.25480067e-03, 1.57224692e-04, 3.39885893e-03,\n",
       "       3.21669535e-03, 2.98371785e-03, 1.39798113e-03, 2.36764357e-03])"
      ]
     },
     "execution_count": 239,
     "metadata": {},
     "output_type": "execute_result"
    }
   ],
   "source": []
  },
  {
   "cell_type": "code",
   "execution_count": 256,
   "id": "a1333b58-939e-4f51-82ea-b4502b5f5a7d",
   "metadata": {},
   "outputs": [
    {
     "data": {
      "image/png": "[encoded data removed]",
      "text/plain": [
       "<Figure size 864x432 with 1 Axes>"
      ]
     },
     "metadata": {},
     "output_type": "display_data"
    }
   ],
   "source": [
    "\n",
    "# Extraemos la importancia de las caracteristicas\n",
    "importancia_rf = pd.DataFrame(list(zip(X_train.columns,cv.best_estimator_['clf'].feature_importances_)),columns=['atributo','importancia'])\n",
    "importancia_rf = importancia_rf.sort_values(by=['importancia'],ascending=False)\n",
    "\n",
    "fig, ax = plt.subplots(figsize=(12,6))\n",
    "plt.bar(importancia_rf['atributo'], importancia_rf['importancia'])\n",
    "plt.xticks(rotation=90);\n",
    "#importancia_rf\n",
    "plt.tight_layout();\n",
    "plt.savefig('imgs/fimportance.png')"
   ]
  },
  {
   "cell_type": "markdown",
   "id": "ba56aa2d-8c52-4938-8d39-108a07697600",
   "metadata": {},
   "source": [
    "Gana Random Forest!"
   ]
  },
  {
   "cell_type": "markdown",
   "id": "2fa37529-82a1-4c8e-ab6e-d0364cc26163",
   "metadata": {},
   "source": [
    "----"
   ]
  },
  {
   "cell_type": "markdown",
   "id": "1a215f00-790e-49dd-bace-8c870f8fb598",
   "metadata": {},
   "source": [
    "# **6. Guardar el modelo**"
   ]
  },
  {
   "cell_type": "code",
   "execution_count": 113,
   "id": "06b5b598-e62a-4168-9852-d0e2d0bf5ab9",
   "metadata": {},
   "outputs": [
    {
     "data": {
      "text/plain": [
       "['modelos/model.pkl']"
      ]
     },
     "execution_count": 113,
     "metadata": {},
     "output_type": "execute_result"
    }
   ],
   "source": [
    "model_filepath = 'modelos/model.pkl'\n",
    "joblib.dump(cv_rf, model_filepath)"
   ]
  },
  {
   "cell_type": "code",
   "execution_count": null,
   "id": "9f1b7f94-33ed-4a25-8df1-7116027e430c",
   "metadata": {},
   "outputs": [],
   "source": []
  },
  {
   "cell_type": "markdown",
   "id": "aea1de82-0a51-46ee-84fe-63e743b5e4fd",
   "metadata": {},
   "source": [
    "# **Anexo: Distribuciones entre los conjuntos de entrenamiento**"
   ]
  },
  {
   "cell_type": "code",
   "execution_count": 121,
   "id": "35dc6478-8efa-49ad-a497-e05919db22a6",
   "metadata": {},
   "outputs": [
    {
     "data": {
      "text/html": [
       "<div>\n",
       "<style scoped>\n",
       "    .dataframe tbody tr th:only-of-type {\n",
       "        vertical-align: middle;\n",
       "    }\n",
       "\n",
       "    .dataframe tbody tr th {\n",
       "        vertical-align: top;\n",
       "    }\n",
       "\n",
       "    .dataframe thead th {\n",
       "        text-align: right;\n",
       "    }\n",
       "</style>\n",
       "<table border=\"1\" class=\"dataframe\">\n",
       "  <thead>\n",
       "    <tr style=\"text-align: right;\">\n",
       "      <th></th>\n",
       "      <th>LIMIT_BAL</th>\n",
       "      <th>BILL_AMT1</th>\n",
       "      <th>BILL_AMT2</th>\n",
       "      <th>BILL_AMT3</th>\n",
       "      <th>BILL_AMT4</th>\n",
       "      <th>BILL_AMT5</th>\n",
       "      <th>BILL_AMT6</th>\n",
       "      <th>PAY_AMT1</th>\n",
       "      <th>PAY_AMT2</th>\n",
       "      <th>PAY_AMT3</th>\n",
       "      <th>PAY_AMT4</th>\n",
       "      <th>PAY_AMT5</th>\n",
       "      <th>PAY_AMT6</th>\n",
       "      <th>PAY_0</th>\n",
       "      <th>PAY_2</th>\n",
       "      <th>PAY_3</th>\n",
       "      <th>PAY_4</th>\n",
       "      <th>PAY_5</th>\n",
       "      <th>PAY_6</th>\n",
       "      <th>AGE</th>\n",
       "      <th>Gen - Mujer</th>\n",
       "      <th>Ed - Bachillerato</th>\n",
       "      <th>Ed - Otros</th>\n",
       "      <th>Ed - Posgrado</th>\n",
       "      <th>Ed - Universitario</th>\n",
       "      <th>Mat - Casado</th>\n",
       "      <th>Mat - Otros</th>\n",
       "      <th>Mat - Soltero</th>\n",
       "    </tr>\n",
       "  </thead>\n",
       "  <tbody>\n",
       "    <tr>\n",
       "      <th>24726</th>\n",
       "      <td>70000.0</td>\n",
       "      <td>60412.0</td>\n",
       "      <td>67474.0</td>\n",
       "      <td>68750.0</td>\n",
       "      <td>59186.0</td>\n",
       "      <td>48178.0</td>\n",
       "      <td>46197.0</td>\n",
       "      <td>8137.0</td>\n",
       "      <td>3100.0</td>\n",
       "      <td>7172.0</td>\n",
       "      <td>10000.0</td>\n",
       "      <td>1662.0</td>\n",
       "      <td>3000.0</td>\n",
       "      <td>0</td>\n",
       "      <td>0</td>\n",
       "      <td>0</td>\n",
       "      <td>0</td>\n",
       "      <td>0</td>\n",
       "      <td>0</td>\n",
       "      <td>39</td>\n",
       "      <td>0</td>\n",
       "      <td>0</td>\n",
       "      <td>0</td>\n",
       "      <td>1</td>\n",
       "      <td>0</td>\n",
       "      <td>1</td>\n",
       "      <td>0</td>\n",
       "      <td>0</td>\n",
       "    </tr>\n",
       "    <tr>\n",
       "      <th>20831</th>\n",
       "      <td>50000.0</td>\n",
       "      <td>34617.0</td>\n",
       "      <td>34390.0</td>\n",
       "      <td>810.0</td>\n",
       "      <td>19009.0</td>\n",
       "      <td>18035.0</td>\n",
       "      <td>18364.0</td>\n",
       "      <td>1000.0</td>\n",
       "      <td>810.0</td>\n",
       "      <td>51000.0</td>\n",
       "      <td>0.0</td>\n",
       "      <td>1000.0</td>\n",
       "      <td>1000.0</td>\n",
       "      <td>0</td>\n",
       "      <td>0</td>\n",
       "      <td>-1</td>\n",
       "      <td>-1</td>\n",
       "      <td>2</td>\n",
       "      <td>0</td>\n",
       "      <td>39</td>\n",
       "      <td>0</td>\n",
       "      <td>1</td>\n",
       "      <td>0</td>\n",
       "      <td>0</td>\n",
       "      <td>0</td>\n",
       "      <td>0</td>\n",
       "      <td>0</td>\n",
       "      <td>1</td>\n",
       "    </tr>\n",
       "    <tr>\n",
       "      <th>3349</th>\n",
       "      <td>30000.0</td>\n",
       "      <td>23171.0</td>\n",
       "      <td>22523.0</td>\n",
       "      <td>21863.0</td>\n",
       "      <td>23296.0</td>\n",
       "      <td>22783.0</td>\n",
       "      <td>24310.0</td>\n",
       "      <td>0.0</td>\n",
       "      <td>0.0</td>\n",
       "      <td>1800.0</td>\n",
       "      <td>0.0</td>\n",
       "      <td>1910.0</td>\n",
       "      <td>780.0</td>\n",
       "      <td>1</td>\n",
       "      <td>3</td>\n",
       "      <td>2</td>\n",
       "      <td>2</td>\n",
       "      <td>2</td>\n",
       "      <td>2</td>\n",
       "      <td>44</td>\n",
       "      <td>0</td>\n",
       "      <td>0</td>\n",
       "      <td>0</td>\n",
       "      <td>0</td>\n",
       "      <td>1</td>\n",
       "      <td>1</td>\n",
       "      <td>0</td>\n",
       "      <td>0</td>\n",
       "    </tr>\n",
       "    <tr>\n",
       "      <th>21741</th>\n",
       "      <td>50000.0</td>\n",
       "      <td>48393.0</td>\n",
       "      <td>49405.0</td>\n",
       "      <td>50934.0</td>\n",
       "      <td>7728.0</td>\n",
       "      <td>8390.0</td>\n",
       "      <td>48679.0</td>\n",
       "      <td>1814.0</td>\n",
       "      <td>2343.0</td>\n",
       "      <td>1137.0</td>\n",
       "      <td>799.0</td>\n",
       "      <td>41933.0</td>\n",
       "      <td>1943.0</td>\n",
       "      <td>0</td>\n",
       "      <td>0</td>\n",
       "      <td>0</td>\n",
       "      <td>0</td>\n",
       "      <td>0</td>\n",
       "      <td>0</td>\n",
       "      <td>24</td>\n",
       "      <td>1</td>\n",
       "      <td>0</td>\n",
       "      <td>0</td>\n",
       "      <td>0</td>\n",
       "      <td>1</td>\n",
       "      <td>0</td>\n",
       "      <td>0</td>\n",
       "      <td>1</td>\n",
       "    </tr>\n",
       "    <tr>\n",
       "      <th>5648</th>\n",
       "      <td>30000.0</td>\n",
       "      <td>0.0</td>\n",
       "      <td>0.0</td>\n",
       "      <td>0.0</td>\n",
       "      <td>239.0</td>\n",
       "      <td>89.0</td>\n",
       "      <td>589.0</td>\n",
       "      <td>0.0</td>\n",
       "      <td>0.0</td>\n",
       "      <td>239.0</td>\n",
       "      <td>0.0</td>\n",
       "      <td>500.0</td>\n",
       "      <td>0.0</td>\n",
       "      <td>1</td>\n",
       "      <td>-2</td>\n",
       "      <td>-2</td>\n",
       "      <td>-1</td>\n",
       "      <td>2</td>\n",
       "      <td>2</td>\n",
       "      <td>38</td>\n",
       "      <td>1</td>\n",
       "      <td>0</td>\n",
       "      <td>0</td>\n",
       "      <td>0</td>\n",
       "      <td>1</td>\n",
       "      <td>0</td>\n",
       "      <td>0</td>\n",
       "      <td>1</td>\n",
       "    </tr>\n",
       "    <tr>\n",
       "      <th>...</th>\n",
       "      <td>...</td>\n",
       "      <td>...</td>\n",
       "      <td>...</td>\n",
       "      <td>...</td>\n",
       "      <td>...</td>\n",
       "      <td>...</td>\n",
       "      <td>...</td>\n",
       "      <td>...</td>\n",
       "      <td>...</td>\n",
       "      <td>...</td>\n",
       "      <td>...</td>\n",
       "      <td>...</td>\n",
       "      <td>...</td>\n",
       "      <td>...</td>\n",
       "      <td>...</td>\n",
       "      <td>...</td>\n",
       "      <td>...</td>\n",
       "      <td>...</td>\n",
       "      <td>...</td>\n",
       "      <td>...</td>\n",
       "      <td>...</td>\n",
       "      <td>...</td>\n",
       "      <td>...</td>\n",
       "      <td>...</td>\n",
       "      <td>...</td>\n",
       "      <td>...</td>\n",
       "      <td>...</td>\n",
       "      <td>...</td>\n",
       "    </tr>\n",
       "    <tr>\n",
       "      <th>9220</th>\n",
       "      <td>280000.0</td>\n",
       "      <td>415.0</td>\n",
       "      <td>415.0</td>\n",
       "      <td>415.0</td>\n",
       "      <td>565.0</td>\n",
       "      <td>830.0</td>\n",
       "      <td>415.0</td>\n",
       "      <td>415.0</td>\n",
       "      <td>415.0</td>\n",
       "      <td>565.0</td>\n",
       "      <td>830.0</td>\n",
       "      <td>0.0</td>\n",
       "      <td>415.0</td>\n",
       "      <td>-1</td>\n",
       "      <td>-1</td>\n",
       "      <td>-1</td>\n",
       "      <td>-1</td>\n",
       "      <td>-1</td>\n",
       "      <td>2</td>\n",
       "      <td>40</td>\n",
       "      <td>1</td>\n",
       "      <td>0</td>\n",
       "      <td>0</td>\n",
       "      <td>0</td>\n",
       "      <td>1</td>\n",
       "      <td>1</td>\n",
       "      <td>0</td>\n",
       "      <td>0</td>\n",
       "    </tr>\n",
       "    <tr>\n",
       "      <th>1862</th>\n",
       "      <td>500000.0</td>\n",
       "      <td>407331.0</td>\n",
       "      <td>403816.0</td>\n",
       "      <td>386053.0</td>\n",
       "      <td>389008.0</td>\n",
       "      <td>392650.0</td>\n",
       "      <td>391336.0</td>\n",
       "      <td>15043.0</td>\n",
       "      <td>14000.0</td>\n",
       "      <td>14003.0</td>\n",
       "      <td>14011.0</td>\n",
       "      <td>15003.0</td>\n",
       "      <td>14009.0</td>\n",
       "      <td>0</td>\n",
       "      <td>0</td>\n",
       "      <td>0</td>\n",
       "      <td>0</td>\n",
       "      <td>0</td>\n",
       "      <td>0</td>\n",
       "      <td>46</td>\n",
       "      <td>0</td>\n",
       "      <td>0</td>\n",
       "      <td>0</td>\n",
       "      <td>1</td>\n",
       "      <td>0</td>\n",
       "      <td>1</td>\n",
       "      <td>0</td>\n",
       "      <td>0</td>\n",
       "    </tr>\n",
       "    <tr>\n",
       "      <th>9952</th>\n",
       "      <td>280000.0</td>\n",
       "      <td>0.0</td>\n",
       "      <td>0.0</td>\n",
       "      <td>0.0</td>\n",
       "      <td>0.0</td>\n",
       "      <td>0.0</td>\n",
       "      <td>35833.0</td>\n",
       "      <td>0.0</td>\n",
       "      <td>0.0</td>\n",
       "      <td>0.0</td>\n",
       "      <td>0.0</td>\n",
       "      <td>35833.0</td>\n",
       "      <td>1500.0</td>\n",
       "      <td>1</td>\n",
       "      <td>-2</td>\n",
       "      <td>-2</td>\n",
       "      <td>-2</td>\n",
       "      <td>-2</td>\n",
       "      <td>-1</td>\n",
       "      <td>33</td>\n",
       "      <td>1</td>\n",
       "      <td>0</td>\n",
       "      <td>0</td>\n",
       "      <td>0</td>\n",
       "      <td>1</td>\n",
       "      <td>0</td>\n",
       "      <td>0</td>\n",
       "      <td>1</td>\n",
       "    </tr>\n",
       "    <tr>\n",
       "      <th>26109</th>\n",
       "      <td>30000.0</td>\n",
       "      <td>26844.0</td>\n",
       "      <td>26414.0</td>\n",
       "      <td>27189.0</td>\n",
       "      <td>28235.0</td>\n",
       "      <td>28669.0</td>\n",
       "      <td>29355.0</td>\n",
       "      <td>300.0</td>\n",
       "      <td>1500.0</td>\n",
       "      <td>1800.0</td>\n",
       "      <td>1200.0</td>\n",
       "      <td>1300.0</td>\n",
       "      <td>1200.0</td>\n",
       "      <td>2</td>\n",
       "      <td>2</td>\n",
       "      <td>2</td>\n",
       "      <td>0</td>\n",
       "      <td>0</td>\n",
       "      <td>0</td>\n",
       "      <td>29</td>\n",
       "      <td>1</td>\n",
       "      <td>0</td>\n",
       "      <td>0</td>\n",
       "      <td>0</td>\n",
       "      <td>1</td>\n",
       "      <td>1</td>\n",
       "      <td>0</td>\n",
       "      <td>0</td>\n",
       "    </tr>\n",
       "    <tr>\n",
       "      <th>26351</th>\n",
       "      <td>100000.0</td>\n",
       "      <td>0.0</td>\n",
       "      <td>0.0</td>\n",
       "      <td>0.0</td>\n",
       "      <td>0.0</td>\n",
       "      <td>0.0</td>\n",
       "      <td>0.0</td>\n",
       "      <td>0.0</td>\n",
       "      <td>0.0</td>\n",
       "      <td>0.0</td>\n",
       "      <td>0.0</td>\n",
       "      <td>0.0</td>\n",
       "      <td>0.0</td>\n",
       "      <td>1</td>\n",
       "      <td>-2</td>\n",
       "      <td>-2</td>\n",
       "      <td>-2</td>\n",
       "      <td>-2</td>\n",
       "      <td>-2</td>\n",
       "      <td>43</td>\n",
       "      <td>1</td>\n",
       "      <td>0</td>\n",
       "      <td>0</td>\n",
       "      <td>1</td>\n",
       "      <td>0</td>\n",
       "      <td>1</td>\n",
       "      <td>0</td>\n",
       "      <td>0</td>\n",
       "    </tr>\n",
       "  </tbody>\n",
       "</table>\n",
       "<p>17979 rows × 28 columns</p>\n",
       "</div>"
      ],
      "text/plain": [
       "       LIMIT_BAL  BILL_AMT1  BILL_AMT2  BILL_AMT3  BILL_AMT4  BILL_AMT5  \\\n",
       "24726    70000.0    60412.0    67474.0    68750.0    59186.0    48178.0   \n",
       "20831    50000.0    34617.0    34390.0      810.0    19009.0    18035.0   \n",
       "3349     30000.0    23171.0    22523.0    21863.0    23296.0    22783.0   \n",
       "21741    50000.0    48393.0    49405.0    50934.0     7728.0     8390.0   \n",
       "5648     30000.0        0.0        0.0        0.0      239.0       89.0   \n",
       "...          ...        ...        ...        ...        ...        ...   \n",
       "9220    280000.0      415.0      415.0      415.0      565.0      830.0   \n",
       "1862    500000.0   407331.0   403816.0   386053.0   389008.0   392650.0   \n",
       "9952    280000.0        0.0        0.0        0.0        0.0        0.0   \n",
       "26109    30000.0    26844.0    26414.0    27189.0    28235.0    28669.0   \n",
       "26351   100000.0        0.0        0.0        0.0        0.0        0.0   \n",
       "\n",
       "       BILL_AMT6  PAY_AMT1  PAY_AMT2  PAY_AMT3  PAY_AMT4  PAY_AMT5  PAY_AMT6  \\\n",
       "24726    46197.0    8137.0    3100.0    7172.0   10000.0    1662.0    3000.0   \n",
       "20831    18364.0    1000.0     810.0   51000.0       0.0    1000.0    1000.0   \n",
       "3349     24310.0       0.0       0.0    1800.0       0.0    1910.0     780.0   \n",
       "21741    48679.0    1814.0    2343.0    1137.0     799.0   41933.0    1943.0   \n",
       "5648       589.0       0.0       0.0     239.0       0.0     500.0       0.0   \n",
       "...          ...       ...       ...       ...       ...       ...       ...   \n",
       "9220       415.0     415.0     415.0     565.0     830.0       0.0     415.0   \n",
       "1862    391336.0   15043.0   14000.0   14003.0   14011.0   15003.0   14009.0   \n",
       "9952     35833.0       0.0       0.0       0.0       0.0   35833.0    1500.0   \n",
       "26109    29355.0     300.0    1500.0    1800.0    1200.0    1300.0    1200.0   \n",
       "26351        0.0       0.0       0.0       0.0       0.0       0.0       0.0   \n",
       "\n",
       "       PAY_0  PAY_2  PAY_3  PAY_4  PAY_5  PAY_6  AGE  Gen - Mujer  \\\n",
       "24726      0      0      0      0      0      0   39            0   \n",
       "20831      0      0     -1     -1      2      0   39            0   \n",
       "3349       1      3      2      2      2      2   44            0   \n",
       "21741      0      0      0      0      0      0   24            1   \n",
       "5648       1     -2     -2     -1      2      2   38            1   \n",
       "...      ...    ...    ...    ...    ...    ...  ...          ...   \n",
       "9220      -1     -1     -1     -1     -1      2   40            1   \n",
       "1862       0      0      0      0      0      0   46            0   \n",
       "9952       1     -2     -2     -2     -2     -1   33            1   \n",
       "26109      2      2      2      0      0      0   29            1   \n",
       "26351      1     -2     -2     -2     -2     -2   43            1   \n",
       "\n",
       "       Ed - Bachillerato  Ed - Otros  Ed - Posgrado  Ed - Universitario  \\\n",
       "24726                  0           0              1                   0   \n",
       "20831                  1           0              0                   0   \n",
       "3349                   0           0              0                   1   \n",
       "21741                  0           0              0                   1   \n",
       "5648                   0           0              0                   1   \n",
       "...                  ...         ...            ...                 ...   \n",
       "9220                   0           0              0                   1   \n",
       "1862                   0           0              1                   0   \n",
       "9952                   0           0              0                   1   \n",
       "26109                  0           0              0                   1   \n",
       "26351                  0           0              1                   0   \n",
       "\n",
       "       Mat - Casado  Mat - Otros  Mat - Soltero  \n",
       "24726             1            0              0  \n",
       "20831             0            0              1  \n",
       "3349              1            0              0  \n",
       "21741             0            0              1  \n",
       "5648              0            0              1  \n",
       "...             ...          ...            ...  \n",
       "9220              1            0              0  \n",
       "1862              1            0              0  \n",
       "9952              0            0              1  \n",
       "26109             1            0              0  \n",
       "26351             1            0              0  \n",
       "\n",
       "[17979 rows x 28 columns]"
      ]
     },
     "execution_count": 121,
     "metadata": {},
     "output_type": "execute_result"
    }
   ],
   "source": [
    "X_train"
   ]
  },
  {
   "cell_type": "markdown",
   "id": "fda7b84e-7f41-42ae-9134-647190280fbb",
   "metadata": {},
   "source": [
    "· Proporción "
   ]
  },
  {
   "cell_type": "code",
   "execution_count": 146,
   "id": "9166db70-9203-4f6a-bc2e-5ff324c536a4",
   "metadata": {},
   "outputs": [
    {
     "data": {
      "image/png": "[encoded data removed]",
      "text/plain": [
       "<Figure size 432x288 with 1 Axes>"
      ]
     },
     "metadata": {},
     "output_type": "display_data"
    }
   ],
   "source": [
    "props = [\n",
    "        sum(y_train)/len(y_train),\n",
    "        sum(y_val)/len(y_val),\n",
    "        sum(y_test)/len(y_test)\n",
    "        ]\n",
    "props_x = ['Train', 'Val', 'Test']\n",
    "plt.bar(props_x, props)\n",
    "plt.xlabel('Conjunto')\n",
    "plt.title('Prop. de Defaults');\n",
    "plt.savefig('imgs/props_y.png')"
   ]
  },
  {
   "cell_type": "markdown",
   "id": "b3b54447-1ecb-43e0-ae34-d330bf4fe1cd",
   "metadata": {},
   "source": [
    ". Dist. Edad\n",
    "· Dist Monto\n",
    "· Dist Genero\n",
    "· Dist Educacion\n",
    "· Estado civil"
   ]
  },
  {
   "cell_type": "code",
   "execution_count": 151,
   "id": "8a8c31a7-d08e-4e43-af46-802e64ab4896",
   "metadata": {},
   "outputs": [
    {
     "data": {
      "image/png": "[encoded data removed]",
      "text/plain": [
       "<Figure size 576x432 with 1 Axes>"
      ]
     },
     "metadata": {},
     "output_type": "display_data"
    }
   ],
   "source": [
    "props_x = ['Train', 'Val', 'Test']\n",
    "\n",
    "fig, ax = plt.subplots(figsize=(8,6))\n",
    "\n",
    "plt.hist(X_train.AGE)\n",
    "plt.hist(X_val.AGE)\n",
    "plt.hist(X_test.AGE)\n",
    "ax.legend( ['Train', 'Val', 'Test'])\n",
    "\n",
    "plt.xlabel('Edad')\n",
    "plt.title('Distr. Edad');\n",
    "plt.savefig('imgs/edad.png')"
   ]
  },
  {
   "cell_type": "code",
   "execution_count": 154,
   "id": "70feb83c-3f0d-4fff-97ef-6b3a93c51679",
   "metadata": {},
   "outputs": [
    {
     "data": {
      "image/png": "[encoded data removed]",
      "text/plain": [
       "<Figure size 576x432 with 1 Axes>"
      ]
     },
     "metadata": {},
     "output_type": "display_data"
    }
   ],
   "source": [
    "props_x = ['Train', 'Val', 'Test']\n",
    "\n",
    "fig, ax = plt.subplots(figsize=(8,6))\n",
    "\n",
    "plt.hist(X_train.LIMIT_BAL)\n",
    "plt.hist(X_val.LIMIT_BAL)\n",
    "plt.hist(X_test.LIMIT_BAL)\n",
    "ax.legend( ['Train', 'Val', 'Test'])\n",
    "\n",
    "plt.xlabel('Monto [USD]')\n",
    "plt.title('Distr. Monto');\n",
    "plt.savefig('imgs/monto.png')"
   ]
  },
  {
   "cell_type": "code",
   "execution_count": 156,
   "id": "7eba29e4-1f30-4fc7-84df-a39c688d1556",
   "metadata": {},
   "outputs": [
    {
     "data": {
      "image/png": "[encoded data removed]",
      "text/plain": [
       "<Figure size 432x288 with 1 Axes>"
      ]
     },
     "metadata": {},
     "output_type": "display_data"
    }
   ],
   "source": [
    "props = [\n",
    "        sum(X_train['Gen - Mujer'])/len(X_train),\n",
    "        sum(X_val['Gen - Mujer'])/len(X_val),\n",
    "        sum(X_test['Gen - Mujer'])/len(X_test)\n",
    "        ]\n",
    "props_x = ['Train', 'Val', 'Test']\n",
    "plt.bar(props_x, props)\n",
    "plt.xlabel('Conjunto')\n",
    "plt.title('Prop. de Mujeres');\n",
    "plt.savefig('imgs/genero.png')"
   ]
  },
  {
   "cell_type": "markdown",
   "id": "7f0cbf14-530e-44a2-8259-5218e47dec78",
   "metadata": {},
   "source": [
    "· Estado civil"
   ]
  },
  {
   "cell_type": "code",
   "execution_count": 157,
   "id": "79c71505-853d-461e-ab89-9ebef5a381d6",
   "metadata": {},
   "outputs": [
    {
     "data": {
      "text/html": [
       "<div>\n",
       "<style scoped>\n",
       "    .dataframe tbody tr th:only-of-type {\n",
       "        vertical-align: middle;\n",
       "    }\n",
       "\n",
       "    .dataframe tbody tr th {\n",
       "        vertical-align: top;\n",
       "    }\n",
       "\n",
       "    .dataframe thead th {\n",
       "        text-align: right;\n",
       "    }\n",
       "</style>\n",
       "<table border=\"1\" class=\"dataframe\">\n",
       "  <thead>\n",
       "    <tr style=\"text-align: right;\">\n",
       "      <th></th>\n",
       "      <th>LIMIT_BAL</th>\n",
       "      <th>BILL_AMT1</th>\n",
       "      <th>BILL_AMT2</th>\n",
       "      <th>BILL_AMT3</th>\n",
       "      <th>BILL_AMT4</th>\n",
       "      <th>BILL_AMT5</th>\n",
       "      <th>BILL_AMT6</th>\n",
       "      <th>PAY_AMT1</th>\n",
       "      <th>PAY_AMT2</th>\n",
       "      <th>PAY_AMT3</th>\n",
       "      <th>PAY_AMT4</th>\n",
       "      <th>PAY_AMT5</th>\n",
       "      <th>PAY_AMT6</th>\n",
       "      <th>PAY_0</th>\n",
       "      <th>PAY_2</th>\n",
       "      <th>PAY_3</th>\n",
       "      <th>PAY_4</th>\n",
       "      <th>PAY_5</th>\n",
       "      <th>PAY_6</th>\n",
       "      <th>AGE</th>\n",
       "      <th>Gen - Mujer</th>\n",
       "      <th>Ed - Bachillerato</th>\n",
       "      <th>Ed - Otros</th>\n",
       "      <th>Ed - Posgrado</th>\n",
       "      <th>Ed - Universitario</th>\n",
       "      <th>Mat - Casado</th>\n",
       "      <th>Mat - Otros</th>\n",
       "      <th>Mat - Soltero</th>\n",
       "    </tr>\n",
       "  </thead>\n",
       "  <tbody>\n",
       "    <tr>\n",
       "      <th>24726</th>\n",
       "      <td>70000.0</td>\n",
       "      <td>60412.0</td>\n",
       "      <td>67474.0</td>\n",
       "      <td>68750.0</td>\n",
       "      <td>59186.0</td>\n",
       "      <td>48178.0</td>\n",
       "      <td>46197.0</td>\n",
       "      <td>8137.0</td>\n",
       "      <td>3100.0</td>\n",
       "      <td>7172.0</td>\n",
       "      <td>10000.0</td>\n",
       "      <td>1662.0</td>\n",
       "      <td>3000.0</td>\n",
       "      <td>0</td>\n",
       "      <td>0</td>\n",
       "      <td>0</td>\n",
       "      <td>0</td>\n",
       "      <td>0</td>\n",
       "      <td>0</td>\n",
       "      <td>39</td>\n",
       "      <td>0</td>\n",
       "      <td>0</td>\n",
       "      <td>0</td>\n",
       "      <td>1</td>\n",
       "      <td>0</td>\n",
       "      <td>1</td>\n",
       "      <td>0</td>\n",
       "      <td>0</td>\n",
       "    </tr>\n",
       "    <tr>\n",
       "      <th>20831</th>\n",
       "      <td>50000.0</td>\n",
       "      <td>34617.0</td>\n",
       "      <td>34390.0</td>\n",
       "      <td>810.0</td>\n",
       "      <td>19009.0</td>\n",
       "      <td>18035.0</td>\n",
       "      <td>18364.0</td>\n",
       "      <td>1000.0</td>\n",
       "      <td>810.0</td>\n",
       "      <td>51000.0</td>\n",
       "      <td>0.0</td>\n",
       "      <td>1000.0</td>\n",
       "      <td>1000.0</td>\n",
       "      <td>0</td>\n",
       "      <td>0</td>\n",
       "      <td>-1</td>\n",
       "      <td>-1</td>\n",
       "      <td>2</td>\n",
       "      <td>0</td>\n",
       "      <td>39</td>\n",
       "      <td>0</td>\n",
       "      <td>1</td>\n",
       "      <td>0</td>\n",
       "      <td>0</td>\n",
       "      <td>0</td>\n",
       "      <td>0</td>\n",
       "      <td>0</td>\n",
       "      <td>1</td>\n",
       "    </tr>\n",
       "    <tr>\n",
       "      <th>3349</th>\n",
       "      <td>30000.0</td>\n",
       "      <td>23171.0</td>\n",
       "      <td>22523.0</td>\n",
       "      <td>21863.0</td>\n",
       "      <td>23296.0</td>\n",
       "      <td>22783.0</td>\n",
       "      <td>24310.0</td>\n",
       "      <td>0.0</td>\n",
       "      <td>0.0</td>\n",
       "      <td>1800.0</td>\n",
       "      <td>0.0</td>\n",
       "      <td>1910.0</td>\n",
       "      <td>780.0</td>\n",
       "      <td>1</td>\n",
       "      <td>3</td>\n",
       "      <td>2</td>\n",
       "      <td>2</td>\n",
       "      <td>2</td>\n",
       "      <td>2</td>\n",
       "      <td>44</td>\n",
       "      <td>0</td>\n",
       "      <td>0</td>\n",
       "      <td>0</td>\n",
       "      <td>0</td>\n",
       "      <td>1</td>\n",
       "      <td>1</td>\n",
       "      <td>0</td>\n",
       "      <td>0</td>\n",
       "    </tr>\n",
       "    <tr>\n",
       "      <th>21741</th>\n",
       "      <td>50000.0</td>\n",
       "      <td>48393.0</td>\n",
       "      <td>49405.0</td>\n",
       "      <td>50934.0</td>\n",
       "      <td>7728.0</td>\n",
       "      <td>8390.0</td>\n",
       "      <td>48679.0</td>\n",
       "      <td>1814.0</td>\n",
       "      <td>2343.0</td>\n",
       "      <td>1137.0</td>\n",
       "      <td>799.0</td>\n",
       "      <td>41933.0</td>\n",
       "      <td>1943.0</td>\n",
       "      <td>0</td>\n",
       "      <td>0</td>\n",
       "      <td>0</td>\n",
       "      <td>0</td>\n",
       "      <td>0</td>\n",
       "      <td>0</td>\n",
       "      <td>24</td>\n",
       "      <td>1</td>\n",
       "      <td>0</td>\n",
       "      <td>0</td>\n",
       "      <td>0</td>\n",
       "      <td>1</td>\n",
       "      <td>0</td>\n",
       "      <td>0</td>\n",
       "      <td>1</td>\n",
       "    </tr>\n",
       "    <tr>\n",
       "      <th>5648</th>\n",
       "      <td>30000.0</td>\n",
       "      <td>0.0</td>\n",
       "      <td>0.0</td>\n",
       "      <td>0.0</td>\n",
       "      <td>239.0</td>\n",
       "      <td>89.0</td>\n",
       "      <td>589.0</td>\n",
       "      <td>0.0</td>\n",
       "      <td>0.0</td>\n",
       "      <td>239.0</td>\n",
       "      <td>0.0</td>\n",
       "      <td>500.0</td>\n",
       "      <td>0.0</td>\n",
       "      <td>1</td>\n",
       "      <td>-2</td>\n",
       "      <td>-2</td>\n",
       "      <td>-1</td>\n",
       "      <td>2</td>\n",
       "      <td>2</td>\n",
       "      <td>38</td>\n",
       "      <td>1</td>\n",
       "      <td>0</td>\n",
       "      <td>0</td>\n",
       "      <td>0</td>\n",
       "      <td>1</td>\n",
       "      <td>0</td>\n",
       "      <td>0</td>\n",
       "      <td>1</td>\n",
       "    </tr>\n",
       "    <tr>\n",
       "      <th>...</th>\n",
       "      <td>...</td>\n",
       "      <td>...</td>\n",
       "      <td>...</td>\n",
       "      <td>...</td>\n",
       "      <td>...</td>\n",
       "      <td>...</td>\n",
       "      <td>...</td>\n",
       "      <td>...</td>\n",
       "      <td>...</td>\n",
       "      <td>...</td>\n",
       "      <td>...</td>\n",
       "      <td>...</td>\n",
       "      <td>...</td>\n",
       "      <td>...</td>\n",
       "      <td>...</td>\n",
       "      <td>...</td>\n",
       "      <td>...</td>\n",
       "      <td>...</td>\n",
       "      <td>...</td>\n",
       "      <td>...</td>\n",
       "      <td>...</td>\n",
       "      <td>...</td>\n",
       "      <td>...</td>\n",
       "      <td>...</td>\n",
       "      <td>...</td>\n",
       "      <td>...</td>\n",
       "      <td>...</td>\n",
       "      <td>...</td>\n",
       "    </tr>\n",
       "    <tr>\n",
       "      <th>9220</th>\n",
       "      <td>280000.0</td>\n",
       "      <td>415.0</td>\n",
       "      <td>415.0</td>\n",
       "      <td>415.0</td>\n",
       "      <td>565.0</td>\n",
       "      <td>830.0</td>\n",
       "      <td>415.0</td>\n",
       "      <td>415.0</td>\n",
       "      <td>415.0</td>\n",
       "      <td>565.0</td>\n",
       "      <td>830.0</td>\n",
       "      <td>0.0</td>\n",
       "      <td>415.0</td>\n",
       "      <td>-1</td>\n",
       "      <td>-1</td>\n",
       "      <td>-1</td>\n",
       "      <td>-1</td>\n",
       "      <td>-1</td>\n",
       "      <td>2</td>\n",
       "      <td>40</td>\n",
       "      <td>1</td>\n",
       "      <td>0</td>\n",
       "      <td>0</td>\n",
       "      <td>0</td>\n",
       "      <td>1</td>\n",
       "      <td>1</td>\n",
       "      <td>0</td>\n",
       "      <td>0</td>\n",
       "    </tr>\n",
       "    <tr>\n",
       "      <th>1862</th>\n",
       "      <td>500000.0</td>\n",
       "      <td>407331.0</td>\n",
       "      <td>403816.0</td>\n",
       "      <td>386053.0</td>\n",
       "      <td>389008.0</td>\n",
       "      <td>392650.0</td>\n",
       "      <td>391336.0</td>\n",
       "      <td>15043.0</td>\n",
       "      <td>14000.0</td>\n",
       "      <td>14003.0</td>\n",
       "      <td>14011.0</td>\n",
       "      <td>15003.0</td>\n",
       "      <td>14009.0</td>\n",
       "      <td>0</td>\n",
       "      <td>0</td>\n",
       "      <td>0</td>\n",
       "      <td>0</td>\n",
       "      <td>0</td>\n",
       "      <td>0</td>\n",
       "      <td>46</td>\n",
       "      <td>0</td>\n",
       "      <td>0</td>\n",
       "      <td>0</td>\n",
       "      <td>1</td>\n",
       "      <td>0</td>\n",
       "      <td>1</td>\n",
       "      <td>0</td>\n",
       "      <td>0</td>\n",
       "    </tr>\n",
       "    <tr>\n",
       "      <th>9952</th>\n",
       "      <td>280000.0</td>\n",
       "      <td>0.0</td>\n",
       "      <td>0.0</td>\n",
       "      <td>0.0</td>\n",
       "      <td>0.0</td>\n",
       "      <td>0.0</td>\n",
       "      <td>35833.0</td>\n",
       "      <td>0.0</td>\n",
       "      <td>0.0</td>\n",
       "      <td>0.0</td>\n",
       "      <td>0.0</td>\n",
       "      <td>35833.0</td>\n",
       "      <td>1500.0</td>\n",
       "      <td>1</td>\n",
       "      <td>-2</td>\n",
       "      <td>-2</td>\n",
       "      <td>-2</td>\n",
       "      <td>-2</td>\n",
       "      <td>-1</td>\n",
       "      <td>33</td>\n",
       "      <td>1</td>\n",
       "      <td>0</td>\n",
       "      <td>0</td>\n",
       "      <td>0</td>\n",
       "      <td>1</td>\n",
       "      <td>0</td>\n",
       "      <td>0</td>\n",
       "      <td>1</td>\n",
       "    </tr>\n",
       "    <tr>\n",
       "      <th>26109</th>\n",
       "      <td>30000.0</td>\n",
       "      <td>26844.0</td>\n",
       "      <td>26414.0</td>\n",
       "      <td>27189.0</td>\n",
       "      <td>28235.0</td>\n",
       "      <td>28669.0</td>\n",
       "      <td>29355.0</td>\n",
       "      <td>300.0</td>\n",
       "      <td>1500.0</td>\n",
       "      <td>1800.0</td>\n",
       "      <td>1200.0</td>\n",
       "      <td>1300.0</td>\n",
       "      <td>1200.0</td>\n",
       "      <td>2</td>\n",
       "      <td>2</td>\n",
       "      <td>2</td>\n",
       "      <td>0</td>\n",
       "      <td>0</td>\n",
       "      <td>0</td>\n",
       "      <td>29</td>\n",
       "      <td>1</td>\n",
       "      <td>0</td>\n",
       "      <td>0</td>\n",
       "      <td>0</td>\n",
       "      <td>1</td>\n",
       "      <td>1</td>\n",
       "      <td>0</td>\n",
       "      <td>0</td>\n",
       "    </tr>\n",
       "    <tr>\n",
       "      <th>26351</th>\n",
       "      <td>100000.0</td>\n",
       "      <td>0.0</td>\n",
       "      <td>0.0</td>\n",
       "      <td>0.0</td>\n",
       "      <td>0.0</td>\n",
       "      <td>0.0</td>\n",
       "      <td>0.0</td>\n",
       "      <td>0.0</td>\n",
       "      <td>0.0</td>\n",
       "      <td>0.0</td>\n",
       "      <td>0.0</td>\n",
       "      <td>0.0</td>\n",
       "      <td>0.0</td>\n",
       "      <td>1</td>\n",
       "      <td>-2</td>\n",
       "      <td>-2</td>\n",
       "      <td>-2</td>\n",
       "      <td>-2</td>\n",
       "      <td>-2</td>\n",
       "      <td>43</td>\n",
       "      <td>1</td>\n",
       "      <td>0</td>\n",
       "      <td>0</td>\n",
       "      <td>1</td>\n",
       "      <td>0</td>\n",
       "      <td>1</td>\n",
       "      <td>0</td>\n",
       "      <td>0</td>\n",
       "    </tr>\n",
       "  </tbody>\n",
       "</table>\n",
       "<p>17979 rows × 28 columns</p>\n",
       "</div>"
      ],
      "text/plain": [
       "       LIMIT_BAL  BILL_AMT1  BILL_AMT2  BILL_AMT3  BILL_AMT4  BILL_AMT5  \\\n",
       "24726    70000.0    60412.0    67474.0    68750.0    59186.0    48178.0   \n",
       "20831    50000.0    34617.0    34390.0      810.0    19009.0    18035.0   \n",
       "3349     30000.0    23171.0    22523.0    21863.0    23296.0    22783.0   \n",
       "21741    50000.0    48393.0    49405.0    50934.0     7728.0     8390.0   \n",
       "5648     30000.0        0.0        0.0        0.0      239.0       89.0   \n",
       "...          ...        ...        ...        ...        ...        ...   \n",
       "9220    280000.0      415.0      415.0      415.0      565.0      830.0   \n",
       "1862    500000.0   407331.0   403816.0   386053.0   389008.0   392650.0   \n",
       "9952    280000.0        0.0        0.0        0.0        0.0        0.0   \n",
       "26109    30000.0    26844.0    26414.0    27189.0    28235.0    28669.0   \n",
       "26351   100000.0        0.0        0.0        0.0        0.0        0.0   \n",
       "\n",
       "       BILL_AMT6  PAY_AMT1  PAY_AMT2  PAY_AMT3  PAY_AMT4  PAY_AMT5  PAY_AMT6  \\\n",
       "24726    46197.0    8137.0    3100.0    7172.0   10000.0    1662.0    3000.0   \n",
       "20831    18364.0    1000.0     810.0   51000.0       0.0    1000.0    1000.0   \n",
       "3349     24310.0       0.0       0.0    1800.0       0.0    1910.0     780.0   \n",
       "21741    48679.0    1814.0    2343.0    1137.0     799.0   41933.0    1943.0   \n",
       "5648       589.0       0.0       0.0     239.0       0.0     500.0       0.0   \n",
       "...          ...       ...       ...       ...       ...       ...       ...   \n",
       "9220       415.0     415.0     415.0     565.0     830.0       0.0     415.0   \n",
       "1862    391336.0   15043.0   14000.0   14003.0   14011.0   15003.0   14009.0   \n",
       "9952     35833.0       0.0       0.0       0.0       0.0   35833.0    1500.0   \n",
       "26109    29355.0     300.0    1500.0    1800.0    1200.0    1300.0    1200.0   \n",
       "26351        0.0       0.0       0.0       0.0       0.0       0.0       0.0   \n",
       "\n",
       "       PAY_0  PAY_2  PAY_3  PAY_4  PAY_5  PAY_6  AGE  Gen - Mujer  \\\n",
       "24726      0      0      0      0      0      0   39            0   \n",
       "20831      0      0     -1     -1      2      0   39            0   \n",
       "3349       1      3      2      2      2      2   44            0   \n",
       "21741      0      0      0      0      0      0   24            1   \n",
       "5648       1     -2     -2     -1      2      2   38            1   \n",
       "...      ...    ...    ...    ...    ...    ...  ...          ...   \n",
       "9220      -1     -1     -1     -1     -1      2   40            1   \n",
       "1862       0      0      0      0      0      0   46            0   \n",
       "9952       1     -2     -2     -2     -2     -1   33            1   \n",
       "26109      2      2      2      0      0      0   29            1   \n",
       "26351      1     -2     -2     -2     -2     -2   43            1   \n",
       "\n",
       "       Ed - Bachillerato  Ed - Otros  Ed - Posgrado  Ed - Universitario  \\\n",
       "24726                  0           0              1                   0   \n",
       "20831                  1           0              0                   0   \n",
       "3349                   0           0              0                   1   \n",
       "21741                  0           0              0                   1   \n",
       "5648                   0           0              0                   1   \n",
       "...                  ...         ...            ...                 ...   \n",
       "9220                   0           0              0                   1   \n",
       "1862                   0           0              1                   0   \n",
       "9952                   0           0              0                   1   \n",
       "26109                  0           0              0                   1   \n",
       "26351                  0           0              1                   0   \n",
       "\n",
       "       Mat - Casado  Mat - Otros  Mat - Soltero  \n",
       "24726             1            0              0  \n",
       "20831             0            0              1  \n",
       "3349              1            0              0  \n",
       "21741             0            0              1  \n",
       "5648              0            0              1  \n",
       "...             ...          ...            ...  \n",
       "9220              1            0              0  \n",
       "1862              1            0              0  \n",
       "9952              0            0              1  \n",
       "26109             1            0              0  \n",
       "26351             1            0              0  \n",
       "\n",
       "[17979 rows x 28 columns]"
      ]
     },
     "execution_count": 157,
     "metadata": {},
     "output_type": "execute_result"
    }
   ],
   "source": [
    "X_train"
   ]
  },
  {
   "cell_type": "code",
   "execution_count": 198,
   "id": "3262caba-5ea4-4ee8-bafd-e0cd018607d6",
   "metadata": {},
   "outputs": [
    {
     "data": {
      "image/png": "[encoded data removed]",
      "text/plain": [
       "<Figure size 648x216 with 2 Axes>"
      ]
     },
     "metadata": {},
     "output_type": "display_data"
    }
   ],
   "source": [
    "props_casados = [\n",
    "                sum(X_train['Mat - Casado'])/len(X_train),\n",
    "                sum(X_val['Mat - Casado'])/len(X_val),\n",
    "                sum(X_test['Mat - Casado'])/len(X_test)\n",
    "                ]\n",
    "props_solteros = [\n",
    "                sum(X_train['Mat - Soltero'])/len(X_train),\n",
    "                sum(X_val['Mat - Soltero'])/len(X_val),\n",
    "                sum(X_test['Mat - Soltero'])/len(X_test)\n",
    "                ]\n",
    "props_x = ['Train', 'Val', 'Test']\n",
    "\n",
    "\n",
    "x = np.arange(len(props_x))  # the label locations\n",
    "width = 0.35  # the width of the bars\n",
    "\n",
    "\n",
    "\n",
    "fig, ax = plt.subplots(1,2, figsize=(9,3))\n",
    "rects1 = ax[0].bar(props_x, props_casados, label='Casados')\n",
    "rects2 = ax[1].bar(props_x, props_solteros, label='Solteros')\n",
    "\n",
    "\n",
    "ax[0].set_title('Prop. de Casados')\n",
    "ax[1].set_title('Prop. de Solteros')\n",
    "\n",
    "ax[0].set_xlabel('Conjunto')\n",
    "ax[1].set_xlabel('Conjunto')\n",
    "plt.tight_layout();\n",
    "plt.savefig('imgs/estado_civil.png')"
   ]
  },
  {
   "cell_type": "code",
   "execution_count": 199,
   "id": "c043db91-81c2-41d2-94a3-ab272c0a0ddb",
   "metadata": {},
   "outputs": [
    {
     "data": {
      "image/png": "[encoded data removed]",
      "text/plain": [
       "<Figure size 648x216 with 3 Axes>"
      ]
     },
     "metadata": {},
     "output_type": "display_data"
    }
   ],
   "source": [
    "props_bach = [\n",
    "                sum(X_train['Ed - Bachillerato'])/len(X_train),\n",
    "                sum(X_val['Ed - Bachillerato'])/len(X_val),\n",
    "                sum(X_test['Ed - Bachillerato'])/len(X_test)\n",
    "                ]\n",
    "props_uni = [\n",
    "                sum(X_train['Ed - Universitario'])/len(X_train),\n",
    "                sum(X_val['Ed - Universitario'])/len(X_val),\n",
    "                sum(X_test['Ed - Universitario'])/len(X_test)\n",
    "                ]\n",
    "\n",
    "props_pos = [\n",
    "                sum(X_train['Ed - Posgrado'])/len(X_train),\n",
    "                sum(X_val['Ed - Posgrado'])/len(X_val),\n",
    "                sum(X_test['Ed - Posgrado'])/len(X_test)\n",
    "                ]\n",
    "\n",
    "props_x = ['Train', 'Val', 'Test']\n",
    "\n",
    "\n",
    "fig, ax = plt.subplots(1,3, figsize=(9,3))\n",
    "rects1 = ax[0].bar(props_x, props_bach, label='Bachillrato')\n",
    "rects2 = ax[1].bar(props_x, props_uni, label='Universidad')\n",
    "rects3 = ax[2].bar(props_x, props_pos, label='Posgrado')\n",
    "\n",
    "ax[0].set_title('Prop. de Bachillrato')\n",
    "ax[1].set_title('Prop. de Universidad')\n",
    "ax[2].set_title('Prop. de Posgrado')\n",
    "\n",
    "\n",
    "ax[0].set_xlabel('Conjunto')\n",
    "ax[1].set_xlabel('Conjunto')\n",
    "ax[2].set_xlabel('Conjunto');\n",
    "plt.tight_layout()\n",
    "plt.savefig('imgs/edu.png')"
   ]
  },
  {
   "cell_type": "code",
   "execution_count": null,
   "id": "d0274af4-c4c5-47e3-9e53-e1f3ec50bf3a",
   "metadata": {},
   "outputs": [],
   "source": []
  }
 ],
 "metadata": {
  "kernelspec": {
   "display_name": "Python 3",
   "language": "python",
   "name": "python3"
  },
  "language_info": {
   "codemirror_mode": {
    "name": "ipython",
    "version": 3
   },
   "file_extension": ".py",
   "mimetype": "text/x-python",
   "name": "python",
   "nbconvert_exporter": "python",
   "pygments_lexer": "ipython3",
   "version": "3.8.8"
  }
 },
 "nbformat": 4,
 "nbformat_minor": 5
}
