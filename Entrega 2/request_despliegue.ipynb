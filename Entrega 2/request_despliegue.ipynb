{
 "cells": [
  {
   "cell_type": "code",
   "execution_count": 1,
   "id": "a901f1a7-cf2b-4599-97d4-6837467e389a",
   "metadata": {},
   "outputs": [
    {
     "data": {
      "text/plain": [
       "{'prediction': 'Este usuario ES propenso a dejar de pagar.'}"
      ]
     },
     "execution_count": 1,
     "metadata": {},
     "output_type": "execute_result"
    }
   ],
   "source": [
    "import requests\n",
    "url = 'http://127.0.0.1:5000/'\n",
    "params ={'query': \n",
    "         [ 2.000e+04,  3.913e+03,  3.102e+03,  6.890e+02,  0.000e+00,\n",
    "            0.000e+00,  0.000e+00,  0.000e+00,  6.890e+02,  0.000e+00,\n",
    "            0.000e+00,  0.000e+00,  0.000e+00,  2.000e+00,  2.000e+00,\n",
    "           -1.000e+00, -1.000e+00, -2.000e+00, -2.000e+00,  2.400e+01,\n",
    "            1.000e+00,  0.000e+00,  0.000e+00,  0.000e+00,  1.000e+00,\n",
    "            1.000e+00,  0.000e+00,  0.000e+00]}\n",
    "response = requests.get(url, params)\n",
    "response.json()"
   ]
  }
 ],
 "metadata": {
  "kernelspec": {
   "display_name": "Python 3",
   "language": "python",
   "name": "python3"
  },
  "language_info": {
   "codemirror_mode": {
    "name": "ipython",
    "version": 3
   },
   "file_extension": ".py",
   "mimetype": "text/x-python",
   "name": "python",
   "nbconvert_exporter": "python",
   "pygments_lexer": "ipython3",
   "version": "3.8.8"
  }
 },
 "nbformat": 4,
 "nbformat_minor": 5
}
