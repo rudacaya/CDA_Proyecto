{
 "cells": [
  {
   "cell_type": "code",
   "execution_count": 128,
   "id": "888a10d0",
   "metadata": {},
   "outputs": [],
   "source": [
    "import pandas as pd\n",
    "import numpy as np\n",
    "\n",
    "# Librerías para plotear\n",
    "import matplotlib.pyplot as plt\n",
    "import matplotlib.ticker as ticker\n",
    "import plotly.express as px\n",
    "import seaborn as sns\n",
    "\n",
    "plt.style.use('ggplot')\n",
    "\n",
    "#librería para prueba t\n",
    "from scipy.stats import ttest_ind\n",
    "# Librería para prueba z de proporciones\n",
    "from statsmodels.stats.proportion import proportions_ztest"
   ]
  },
  {
   "cell_type": "code",
   "execution_count": 4,
   "id": "e238076b",
   "metadata": {},
   "outputs": [],
   "source": [
    "#leemos los datos\n",
    "df = pd.read_csv('UCI_Credit_Card.csv')"
   ]
  },
  {
   "cell_type": "code",
   "execution_count": 5,
   "id": "ae711fea",
   "metadata": {},
   "outputs": [
    {
     "data": {
      "text/html": [
       "<div>\n",
       "<style scoped>\n",
       "    .dataframe tbody tr th:only-of-type {\n",
       "        vertical-align: middle;\n",
       "    }\n",
       "\n",
       "    .dataframe tbody tr th {\n",
       "        vertical-align: top;\n",
       "    }\n",
       "\n",
       "    .dataframe thead th {\n",
       "        text-align: right;\n",
       "    }\n",
       "</style>\n",
       "<table border=\"1\" class=\"dataframe\">\n",
       "  <thead>\n",
       "    <tr style=\"text-align: right;\">\n",
       "      <th></th>\n",
       "      <th>ID</th>\n",
       "      <th>LIMIT_BAL</th>\n",
       "      <th>SEX</th>\n",
       "      <th>EDUCATION</th>\n",
       "      <th>MARRIAGE</th>\n",
       "      <th>AGE</th>\n",
       "      <th>PAY_0</th>\n",
       "      <th>PAY_2</th>\n",
       "      <th>PAY_3</th>\n",
       "      <th>PAY_4</th>\n",
       "      <th>...</th>\n",
       "      <th>BILL_AMT4</th>\n",
       "      <th>BILL_AMT5</th>\n",
       "      <th>BILL_AMT6</th>\n",
       "      <th>PAY_AMT1</th>\n",
       "      <th>PAY_AMT2</th>\n",
       "      <th>PAY_AMT3</th>\n",
       "      <th>PAY_AMT4</th>\n",
       "      <th>PAY_AMT5</th>\n",
       "      <th>PAY_AMT6</th>\n",
       "      <th>default.payment.next.month</th>\n",
       "    </tr>\n",
       "  </thead>\n",
       "  <tbody>\n",
       "    <tr>\n",
       "      <th>0</th>\n",
       "      <td>1</td>\n",
       "      <td>20000.0</td>\n",
       "      <td>2</td>\n",
       "      <td>2</td>\n",
       "      <td>1</td>\n",
       "      <td>24</td>\n",
       "      <td>2</td>\n",
       "      <td>2</td>\n",
       "      <td>-1</td>\n",
       "      <td>-1</td>\n",
       "      <td>...</td>\n",
       "      <td>0.0</td>\n",
       "      <td>0.0</td>\n",
       "      <td>0.0</td>\n",
       "      <td>0.0</td>\n",
       "      <td>689.0</td>\n",
       "      <td>0.0</td>\n",
       "      <td>0.0</td>\n",
       "      <td>0.0</td>\n",
       "      <td>0.0</td>\n",
       "      <td>1</td>\n",
       "    </tr>\n",
       "    <tr>\n",
       "      <th>1</th>\n",
       "      <td>2</td>\n",
       "      <td>120000.0</td>\n",
       "      <td>2</td>\n",
       "      <td>2</td>\n",
       "      <td>2</td>\n",
       "      <td>26</td>\n",
       "      <td>-1</td>\n",
       "      <td>2</td>\n",
       "      <td>0</td>\n",
       "      <td>0</td>\n",
       "      <td>...</td>\n",
       "      <td>3272.0</td>\n",
       "      <td>3455.0</td>\n",
       "      <td>3261.0</td>\n",
       "      <td>0.0</td>\n",
       "      <td>1000.0</td>\n",
       "      <td>1000.0</td>\n",
       "      <td>1000.0</td>\n",
       "      <td>0.0</td>\n",
       "      <td>2000.0</td>\n",
       "      <td>1</td>\n",
       "    </tr>\n",
       "    <tr>\n",
       "      <th>2</th>\n",
       "      <td>3</td>\n",
       "      <td>90000.0</td>\n",
       "      <td>2</td>\n",
       "      <td>2</td>\n",
       "      <td>2</td>\n",
       "      <td>34</td>\n",
       "      <td>0</td>\n",
       "      <td>0</td>\n",
       "      <td>0</td>\n",
       "      <td>0</td>\n",
       "      <td>...</td>\n",
       "      <td>14331.0</td>\n",
       "      <td>14948.0</td>\n",
       "      <td>15549.0</td>\n",
       "      <td>1518.0</td>\n",
       "      <td>1500.0</td>\n",
       "      <td>1000.0</td>\n",
       "      <td>1000.0</td>\n",
       "      <td>1000.0</td>\n",
       "      <td>5000.0</td>\n",
       "      <td>0</td>\n",
       "    </tr>\n",
       "    <tr>\n",
       "      <th>3</th>\n",
       "      <td>4</td>\n",
       "      <td>50000.0</td>\n",
       "      <td>2</td>\n",
       "      <td>2</td>\n",
       "      <td>1</td>\n",
       "      <td>37</td>\n",
       "      <td>0</td>\n",
       "      <td>0</td>\n",
       "      <td>0</td>\n",
       "      <td>0</td>\n",
       "      <td>...</td>\n",
       "      <td>28314.0</td>\n",
       "      <td>28959.0</td>\n",
       "      <td>29547.0</td>\n",
       "      <td>2000.0</td>\n",
       "      <td>2019.0</td>\n",
       "      <td>1200.0</td>\n",
       "      <td>1100.0</td>\n",
       "      <td>1069.0</td>\n",
       "      <td>1000.0</td>\n",
       "      <td>0</td>\n",
       "    </tr>\n",
       "    <tr>\n",
       "      <th>4</th>\n",
       "      <td>5</td>\n",
       "      <td>50000.0</td>\n",
       "      <td>1</td>\n",
       "      <td>2</td>\n",
       "      <td>1</td>\n",
       "      <td>57</td>\n",
       "      <td>-1</td>\n",
       "      <td>0</td>\n",
       "      <td>-1</td>\n",
       "      <td>0</td>\n",
       "      <td>...</td>\n",
       "      <td>20940.0</td>\n",
       "      <td>19146.0</td>\n",
       "      <td>19131.0</td>\n",
       "      <td>2000.0</td>\n",
       "      <td>36681.0</td>\n",
       "      <td>10000.0</td>\n",
       "      <td>9000.0</td>\n",
       "      <td>689.0</td>\n",
       "      <td>679.0</td>\n",
       "      <td>0</td>\n",
       "    </tr>\n",
       "    <tr>\n",
       "      <th>...</th>\n",
       "      <td>...</td>\n",
       "      <td>...</td>\n",
       "      <td>...</td>\n",
       "      <td>...</td>\n",
       "      <td>...</td>\n",
       "      <td>...</td>\n",
       "      <td>...</td>\n",
       "      <td>...</td>\n",
       "      <td>...</td>\n",
       "      <td>...</td>\n",
       "      <td>...</td>\n",
       "      <td>...</td>\n",
       "      <td>...</td>\n",
       "      <td>...</td>\n",
       "      <td>...</td>\n",
       "      <td>...</td>\n",
       "      <td>...</td>\n",
       "      <td>...</td>\n",
       "      <td>...</td>\n",
       "      <td>...</td>\n",
       "      <td>...</td>\n",
       "    </tr>\n",
       "    <tr>\n",
       "      <th>29995</th>\n",
       "      <td>29996</td>\n",
       "      <td>220000.0</td>\n",
       "      <td>1</td>\n",
       "      <td>3</td>\n",
       "      <td>1</td>\n",
       "      <td>39</td>\n",
       "      <td>0</td>\n",
       "      <td>0</td>\n",
       "      <td>0</td>\n",
       "      <td>0</td>\n",
       "      <td>...</td>\n",
       "      <td>88004.0</td>\n",
       "      <td>31237.0</td>\n",
       "      <td>15980.0</td>\n",
       "      <td>8500.0</td>\n",
       "      <td>20000.0</td>\n",
       "      <td>5003.0</td>\n",
       "      <td>3047.0</td>\n",
       "      <td>5000.0</td>\n",
       "      <td>1000.0</td>\n",
       "      <td>0</td>\n",
       "    </tr>\n",
       "    <tr>\n",
       "      <th>29996</th>\n",
       "      <td>29997</td>\n",
       "      <td>150000.0</td>\n",
       "      <td>1</td>\n",
       "      <td>3</td>\n",
       "      <td>2</td>\n",
       "      <td>43</td>\n",
       "      <td>-1</td>\n",
       "      <td>-1</td>\n",
       "      <td>-1</td>\n",
       "      <td>-1</td>\n",
       "      <td>...</td>\n",
       "      <td>8979.0</td>\n",
       "      <td>5190.0</td>\n",
       "      <td>0.0</td>\n",
       "      <td>1837.0</td>\n",
       "      <td>3526.0</td>\n",
       "      <td>8998.0</td>\n",
       "      <td>129.0</td>\n",
       "      <td>0.0</td>\n",
       "      <td>0.0</td>\n",
       "      <td>0</td>\n",
       "    </tr>\n",
       "    <tr>\n",
       "      <th>29997</th>\n",
       "      <td>29998</td>\n",
       "      <td>30000.0</td>\n",
       "      <td>1</td>\n",
       "      <td>2</td>\n",
       "      <td>2</td>\n",
       "      <td>37</td>\n",
       "      <td>4</td>\n",
       "      <td>3</td>\n",
       "      <td>2</td>\n",
       "      <td>-1</td>\n",
       "      <td>...</td>\n",
       "      <td>20878.0</td>\n",
       "      <td>20582.0</td>\n",
       "      <td>19357.0</td>\n",
       "      <td>0.0</td>\n",
       "      <td>0.0</td>\n",
       "      <td>22000.0</td>\n",
       "      <td>4200.0</td>\n",
       "      <td>2000.0</td>\n",
       "      <td>3100.0</td>\n",
       "      <td>1</td>\n",
       "    </tr>\n",
       "    <tr>\n",
       "      <th>29998</th>\n",
       "      <td>29999</td>\n",
       "      <td>80000.0</td>\n",
       "      <td>1</td>\n",
       "      <td>3</td>\n",
       "      <td>1</td>\n",
       "      <td>41</td>\n",
       "      <td>1</td>\n",
       "      <td>-1</td>\n",
       "      <td>0</td>\n",
       "      <td>0</td>\n",
       "      <td>...</td>\n",
       "      <td>52774.0</td>\n",
       "      <td>11855.0</td>\n",
       "      <td>48944.0</td>\n",
       "      <td>85900.0</td>\n",
       "      <td>3409.0</td>\n",
       "      <td>1178.0</td>\n",
       "      <td>1926.0</td>\n",
       "      <td>52964.0</td>\n",
       "      <td>1804.0</td>\n",
       "      <td>1</td>\n",
       "    </tr>\n",
       "    <tr>\n",
       "      <th>29999</th>\n",
       "      <td>30000</td>\n",
       "      <td>50000.0</td>\n",
       "      <td>1</td>\n",
       "      <td>2</td>\n",
       "      <td>1</td>\n",
       "      <td>46</td>\n",
       "      <td>0</td>\n",
       "      <td>0</td>\n",
       "      <td>0</td>\n",
       "      <td>0</td>\n",
       "      <td>...</td>\n",
       "      <td>36535.0</td>\n",
       "      <td>32428.0</td>\n",
       "      <td>15313.0</td>\n",
       "      <td>2078.0</td>\n",
       "      <td>1800.0</td>\n",
       "      <td>1430.0</td>\n",
       "      <td>1000.0</td>\n",
       "      <td>1000.0</td>\n",
       "      <td>1000.0</td>\n",
       "      <td>1</td>\n",
       "    </tr>\n",
       "  </tbody>\n",
       "</table>\n",
       "<p>30000 rows × 25 columns</p>\n",
       "</div>"
      ],
      "text/plain": [
       "          ID  LIMIT_BAL  SEX  EDUCATION  MARRIAGE  AGE  PAY_0  PAY_2  PAY_3  \\\n",
       "0          1    20000.0    2          2         1   24      2      2     -1   \n",
       "1          2   120000.0    2          2         2   26     -1      2      0   \n",
       "2          3    90000.0    2          2         2   34      0      0      0   \n",
       "3          4    50000.0    2          2         1   37      0      0      0   \n",
       "4          5    50000.0    1          2         1   57     -1      0     -1   \n",
       "...      ...        ...  ...        ...       ...  ...    ...    ...    ...   \n",
       "29995  29996   220000.0    1          3         1   39      0      0      0   \n",
       "29996  29997   150000.0    1          3         2   43     -1     -1     -1   \n",
       "29997  29998    30000.0    1          2         2   37      4      3      2   \n",
       "29998  29999    80000.0    1          3         1   41      1     -1      0   \n",
       "29999  30000    50000.0    1          2         1   46      0      0      0   \n",
       "\n",
       "       PAY_4  ...  BILL_AMT4  BILL_AMT5  BILL_AMT6  PAY_AMT1  PAY_AMT2  \\\n",
       "0         -1  ...        0.0        0.0        0.0       0.0     689.0   \n",
       "1          0  ...     3272.0     3455.0     3261.0       0.0    1000.0   \n",
       "2          0  ...    14331.0    14948.0    15549.0    1518.0    1500.0   \n",
       "3          0  ...    28314.0    28959.0    29547.0    2000.0    2019.0   \n",
       "4          0  ...    20940.0    19146.0    19131.0    2000.0   36681.0   \n",
       "...      ...  ...        ...        ...        ...       ...       ...   \n",
       "29995      0  ...    88004.0    31237.0    15980.0    8500.0   20000.0   \n",
       "29996     -1  ...     8979.0     5190.0        0.0    1837.0    3526.0   \n",
       "29997     -1  ...    20878.0    20582.0    19357.0       0.0       0.0   \n",
       "29998      0  ...    52774.0    11855.0    48944.0   85900.0    3409.0   \n",
       "29999      0  ...    36535.0    32428.0    15313.0    2078.0    1800.0   \n",
       "\n",
       "       PAY_AMT3  PAY_AMT4  PAY_AMT5  PAY_AMT6  default.payment.next.month  \n",
       "0           0.0       0.0       0.0       0.0                           1  \n",
       "1        1000.0    1000.0       0.0    2000.0                           1  \n",
       "2        1000.0    1000.0    1000.0    5000.0                           0  \n",
       "3        1200.0    1100.0    1069.0    1000.0                           0  \n",
       "4       10000.0    9000.0     689.0     679.0                           0  \n",
       "...         ...       ...       ...       ...                         ...  \n",
       "29995    5003.0    3047.0    5000.0    1000.0                           0  \n",
       "29996    8998.0     129.0       0.0       0.0                           0  \n",
       "29997   22000.0    4200.0    2000.0    3100.0                           1  \n",
       "29998    1178.0    1926.0   52964.0    1804.0                           1  \n",
       "29999    1430.0    1000.0    1000.0    1000.0                           1  \n",
       "\n",
       "[30000 rows x 25 columns]"
      ]
     },
     "execution_count": 5,
     "metadata": {},
     "output_type": "execute_result"
    }
   ],
   "source": [
    "df"
   ]
  },
  {
   "cell_type": "markdown",
   "id": "00fe7058",
   "metadata": {},
   "source": [
    "# Descodificar las categorías\n",
    "\n",
    "This research employed a binary variable, default payment (Yes = 1, No = 0), as the response variable. This study reviewed the literature and used the following 23 variables as explanatory variables:\n",
    "\n",
    "X1: Amount of the given credit (NT dollar): it includes both the individual consumer credit and his/her family (supplementary) credit.\n",
    "\n",
    "X2: Gender (1 = male; 2 = female).\n",
    "\n",
    "X3: Education (1 = graduate school; 2 = university; 3 = high school; 4 = others).\n",
    "\n",
    "X4: Marital status (1 = married; 2 = single; 3 = others).\n",
    "\n",
    "X5: Age (year).\n",
    "\n",
    "X6 - X11: History of past payment. We tracked the past monthly payment records (from April to September, 2005) as follows: X6 = the repayment status in September, 2005; X7 = the repayment status in August, 2005; . . .;X11 = the repayment status in April, 2005. The measurement scale for the repayment status is: -1 = pay duly; 1 = payment delay for one month; 2 = payment delay for two months; . . .; 8 = payment delay for eight months; 9 = payment delay for nine months and above.\n",
    "\n",
    "X12-X17: Amount of bill statement (NT dollar). X12 = amount of bill statement in September, 2005; X13 = amount of bill statement in August, 2005; . . .; X17 = amount of bill statement in April, 2005.\n",
    "\n",
    "X18-X23: Amount of previous payment (NT dollar). X18 = amount paid in September, 2005; X19 = amount paid in August, 2005; . . .;X23 = amount paid in April, 2005."
   ]
  },
  {
   "cell_type": "code",
   "execution_count": 42,
   "id": "27cd3d0a",
   "metadata": {},
   "outputs": [],
   "source": [
    "def gender(sex):\n",
    "    if sex == 1:\n",
    "        return 'Hombre'\n",
    "    elif sex == 2:\n",
    "        return 'Mujer'\n",
    "    else:\n",
    "        return 'Sin Información'\n",
    "    \n",
    "df['COD_SEX'] = df.SEX.apply(gender)"
   ]
  },
  {
   "cell_type": "code",
   "execution_count": 43,
   "id": "e7848c56",
   "metadata": {},
   "outputs": [],
   "source": [
    "def education(ed):\n",
    "    if ed == 1:\n",
    "        return 'Posgrado'\n",
    "    elif ed == 2:\n",
    "        return 'Universitario'\n",
    "    elif ed == 3:\n",
    "        return 'Bachillerato'\n",
    "    elif ed == 4:\n",
    "        return 'Otros'\n",
    "    else:\n",
    "        return 'Sin Información'\n",
    "    \n",
    "df['COD_EDUCATION'] = df.EDUCATION.apply(education)"
   ]
  },
  {
   "cell_type": "code",
   "execution_count": 44,
   "id": "3ce94b7a",
   "metadata": {},
   "outputs": [],
   "source": [
    "def marriage(status):\n",
    "    if status == 1:\n",
    "        return 'Casado'\n",
    "    elif status == 2:\n",
    "        return 'Soltero'\n",
    "    elif status == 3:\n",
    "        return 'Otros'\n",
    "    else:\n",
    "        return 'Sin Información'\n",
    "    \n",
    "df['COD_MARRIAGE'] = df.MARRIAGE.apply(marriage)"
   ]
  },
  {
   "cell_type": "markdown",
   "id": "a7547255",
   "metadata": {},
   "source": [
    "# Análisis Monovariable"
   ]
  },
  {
   "cell_type": "code",
   "execution_count": 45,
   "id": "d83ee817",
   "metadata": {},
   "outputs": [],
   "source": [
    "#función tabla de frecuencia\n",
    "def tabla_frec(df, nombre):\n",
    "    #frecuencia relativa\n",
    "    df['porcentaje_{}'.format(nombre)] = df['Cantidad de Clientes'].apply(lambda x: x/df['Cantidad de Clientes'].sum())\n",
    "    # frecuencia absoluta y relativa acumulada con cumsum()\n",
    "    # absoluta acumulada\n",
    "    df['acumulada__{}'.format(nombre)] = df['Cantidad de Clientes'].cumsum()\n",
    "    # relativa acumulada\n",
    "    df['acumulada_procentaje_{}'.format(nombre)]=df['porcentaje_{}'.format(nombre)].cumsum()\n",
    "    return df"
   ]
  },
  {
   "cell_type": "markdown",
   "id": "a8e2b2d2",
   "metadata": {},
   "source": [
    "### Barplots"
   ]
  },
  {
   "cell_type": "code",
   "execution_count": 40,
   "id": "a182f26e",
   "metadata": {},
   "outputs": [
    {
     "data": {
      "image/png": "[encoded data removed]",
      "text/plain": [
       "<Figure size 432x288 with 1 Axes>"
      ]
     },
     "metadata": {},
     "output_type": "display_data"
    }
   ],
   "source": [
    "defaults = df['default.payment.next.month'].value_counts().reset_index()\n",
    "defaults.columns = ['Default', 'Cantidad de Clientes']\n",
    "defaults['Default_nombre'] = defaults['Default'].apply(lambda x: 'Default' if x == 1 else 'No Default')\n",
    "ax = sns.barplot(x=defaults['Default_nombre'], y =defaults['Cantidad de Clientes'],palette=\"Blues_d\");\n",
    "plt.xlabel('')\n",
    "for p in ax.patches:\n",
    "    percentage = '{:.1f}%'.format(100 * p.get_height()/sum(defaults['Cantidad de Clientes']))\n",
    "    x = p.get_x() + p.get_width()-0.4\n",
    "    y = p.get_height() + 500\n",
    "    ax.annotate(percentage, (x, y),ha='center')\n",
    "plt.savefig('default.png', transparent=True, dpi=300, bbox_inches = \"tight\")"
   ]
  },
  {
   "cell_type": "code",
   "execution_count": 24,
   "id": "07f4604c",
   "metadata": {},
   "outputs": [
    {
     "data": {
      "text/html": [
       "<div>\n",
       "<style scoped>\n",
       "    .dataframe tbody tr th:only-of-type {\n",
       "        vertical-align: middle;\n",
       "    }\n",
       "\n",
       "    .dataframe tbody tr th {\n",
       "        vertical-align: top;\n",
       "    }\n",
       "\n",
       "    .dataframe thead th {\n",
       "        text-align: right;\n",
       "    }\n",
       "</style>\n",
       "<table border=\"1\" class=\"dataframe\">\n",
       "  <thead>\n",
       "    <tr style=\"text-align: right;\">\n",
       "      <th></th>\n",
       "      <th>Default</th>\n",
       "      <th>Cantidad de Clientes</th>\n",
       "      <th>Default_nombre</th>\n",
       "      <th>porcentaje_Defaults</th>\n",
       "      <th>acumulada__Defaults</th>\n",
       "      <th>acumulada_procentaje_Defaults</th>\n",
       "    </tr>\n",
       "  </thead>\n",
       "  <tbody>\n",
       "    <tr>\n",
       "      <th>0</th>\n",
       "      <td>0</td>\n",
       "      <td>23364</td>\n",
       "      <td>No Default</td>\n",
       "      <td>0.7788</td>\n",
       "      <td>23364</td>\n",
       "      <td>0.7788</td>\n",
       "    </tr>\n",
       "    <tr>\n",
       "      <th>1</th>\n",
       "      <td>1</td>\n",
       "      <td>6636</td>\n",
       "      <td>Default</td>\n",
       "      <td>0.2212</td>\n",
       "      <td>30000</td>\n",
       "      <td>1.0000</td>\n",
       "    </tr>\n",
       "  </tbody>\n",
       "</table>\n",
       "</div>"
      ],
      "text/plain": [
       "   Default  Cantidad de Clientes Default_nombre  porcentaje_Defaults  \\\n",
       "0        0                 23364     No Default               0.7788   \n",
       "1        1                  6636        Default               0.2212   \n",
       "\n",
       "   acumulada__Defaults  acumulada_procentaje_Defaults  \n",
       "0                23364                         0.7788  \n",
       "1                30000                         1.0000  "
      ]
     },
     "execution_count": 24,
     "metadata": {},
     "output_type": "execute_result"
    }
   ],
   "source": [
    "tabla_frec(defaults, 'Defaults')"
   ]
  },
  {
   "cell_type": "code",
   "execution_count": 48,
   "id": "08c92363",
   "metadata": {},
   "outputs": [
    {
     "data": {
      "image/png": "[encoded data removed]",
      "text/plain": [
       "<Figure size 432x288 with 1 Axes>"
      ]
     },
     "metadata": {},
     "output_type": "display_data"
    }
   ],
   "source": [
    "defaults = df['COD_SEX'].value_counts().reset_index()\n",
    "defaults.columns = ['Genero', 'Cantidad de Clientes']\n",
    "ax = sns.barplot(x=defaults['Genero'], y =defaults['Cantidad de Clientes'],palette=\"Greens_d\");\n",
    "#plt.xlabel('')\n",
    "for p in ax.patches:\n",
    "    percentage = '{:.1f}%'.format(100 * p.get_height()/sum(defaults['Cantidad de Clientes']))\n",
    "    x = p.get_x() + p.get_width()-0.4\n",
    "    y = p.get_height() + 500\n",
    "    ax.annotate(percentage, (x, y),ha='center')\n",
    "plt.savefig('Genero.png', transparent=True, dpi=300, bbox_inches = \"tight\")"
   ]
  },
  {
   "cell_type": "code",
   "execution_count": 26,
   "id": "9090962b",
   "metadata": {},
   "outputs": [
    {
     "data": {
      "text/html": [
       "<div>\n",
       "<style scoped>\n",
       "    .dataframe tbody tr th:only-of-type {\n",
       "        vertical-align: middle;\n",
       "    }\n",
       "\n",
       "    .dataframe tbody tr th {\n",
       "        vertical-align: top;\n",
       "    }\n",
       "\n",
       "    .dataframe thead th {\n",
       "        text-align: right;\n",
       "    }\n",
       "</style>\n",
       "<table border=\"1\" class=\"dataframe\">\n",
       "  <thead>\n",
       "    <tr style=\"text-align: right;\">\n",
       "      <th></th>\n",
       "      <th>Genero</th>\n",
       "      <th>Cantidad de Clientes</th>\n",
       "      <th>porcentaje_Genero</th>\n",
       "      <th>acumulada__Genero</th>\n",
       "      <th>acumulada_procentaje_Genero</th>\n",
       "    </tr>\n",
       "  </thead>\n",
       "  <tbody>\n",
       "    <tr>\n",
       "      <th>0</th>\n",
       "      <td>female</td>\n",
       "      <td>18112</td>\n",
       "      <td>0.603733</td>\n",
       "      <td>18112</td>\n",
       "      <td>0.603733</td>\n",
       "    </tr>\n",
       "    <tr>\n",
       "      <th>1</th>\n",
       "      <td>male</td>\n",
       "      <td>11888</td>\n",
       "      <td>0.396267</td>\n",
       "      <td>30000</td>\n",
       "      <td>1.000000</td>\n",
       "    </tr>\n",
       "  </tbody>\n",
       "</table>\n",
       "</div>"
      ],
      "text/plain": [
       "   Genero  Cantidad de Clientes  porcentaje_Genero  acumulada__Genero  \\\n",
       "0  female                 18112           0.603733              18112   \n",
       "1    male                 11888           0.396267              30000   \n",
       "\n",
       "   acumulada_procentaje_Genero  \n",
       "0                     0.603733  \n",
       "1                     1.000000  "
      ]
     },
     "execution_count": 26,
     "metadata": {},
     "output_type": "execute_result"
    }
   ],
   "source": [
    "tabla_frec(sex, 'Genero')"
   ]
  },
  {
   "cell_type": "code",
   "execution_count": 69,
   "id": "5c0ec05b",
   "metadata": {},
   "outputs": [
    {
     "data": {
      "image/png": "[encoded data removed]",
      "text/plain": [
       "<Figure size 576x360 with 1 Axes>"
      ]
     },
     "metadata": {},
     "output_type": "display_data"
    }
   ],
   "source": [
    "#educación\n",
    "defaults = df['COD_EDUCATION'].value_counts().reset_index()\n",
    "defaults.columns = ['Educación', 'Cantidad de Clientes']\n",
    "ax = sns.barplot(x=defaults['Educación'], y =defaults['Cantidad de Clientes'],palette=\"Greens_d\");\n",
    "plt.xlabel('')\n",
    "#plt.title('Educación')\n",
    "for p in ax.patches:\n",
    "    percentage = '{:.1f}%'.format(100 * p.get_height()/sum(defaults['Cantidad de Clientes']))\n",
    "    x = p.get_x() + p.get_width()-0.4\n",
    "    y = p.get_height() + 500\n",
    "    ax.annotate(percentage, (x, y),ha='center')\n",
    "sns.set(rc={'figure.figsize':(8, 5)})\n",
    "plt.savefig('Educacion.png', transparent=True, dpi=300, bbox_inches = \"tight\")"
   ]
  },
  {
   "cell_type": "code",
   "execution_count": 27,
   "id": "c82c5e62",
   "metadata": {},
   "outputs": [
    {
     "data": {
      "text/html": [
       "<div>\n",
       "<style scoped>\n",
       "    .dataframe tbody tr th:only-of-type {\n",
       "        vertical-align: middle;\n",
       "    }\n",
       "\n",
       "    .dataframe tbody tr th {\n",
       "        vertical-align: top;\n",
       "    }\n",
       "\n",
       "    .dataframe thead th {\n",
       "        text-align: right;\n",
       "    }\n",
       "</style>\n",
       "<table border=\"1\" class=\"dataframe\">\n",
       "  <thead>\n",
       "    <tr style=\"text-align: right;\">\n",
       "      <th></th>\n",
       "      <th>Educación</th>\n",
       "      <th>Cantidad de Clientes</th>\n",
       "      <th>porcentaje_Educación</th>\n",
       "      <th>acumulada__Educación</th>\n",
       "      <th>acumulada_procentaje_Educación</th>\n",
       "    </tr>\n",
       "  </thead>\n",
       "  <tbody>\n",
       "    <tr>\n",
       "      <th>0</th>\n",
       "      <td>university</td>\n",
       "      <td>14030</td>\n",
       "      <td>0.473107</td>\n",
       "      <td>14030</td>\n",
       "      <td>0.473107</td>\n",
       "    </tr>\n",
       "    <tr>\n",
       "      <th>1</th>\n",
       "      <td>graduate school</td>\n",
       "      <td>10585</td>\n",
       "      <td>0.356938</td>\n",
       "      <td>24615</td>\n",
       "      <td>0.830046</td>\n",
       "    </tr>\n",
       "    <tr>\n",
       "      <th>2</th>\n",
       "      <td>high school</td>\n",
       "      <td>4917</td>\n",
       "      <td>0.165807</td>\n",
       "      <td>29532</td>\n",
       "      <td>0.995852</td>\n",
       "    </tr>\n",
       "    <tr>\n",
       "      <th>3</th>\n",
       "      <td>others</td>\n",
       "      <td>123</td>\n",
       "      <td>0.004148</td>\n",
       "      <td>29655</td>\n",
       "      <td>1.000000</td>\n",
       "    </tr>\n",
       "  </tbody>\n",
       "</table>\n",
       "</div>"
      ],
      "text/plain": [
       "         Educación  Cantidad de Clientes  porcentaje_Educación  \\\n",
       "0       university                 14030              0.473107   \n",
       "1  graduate school                 10585              0.356938   \n",
       "2      high school                  4917              0.165807   \n",
       "3           others                   123              0.004148   \n",
       "\n",
       "   acumulada__Educación  acumulada_procentaje_Educación  \n",
       "0                 14030                        0.473107  \n",
       "1                 24615                        0.830046  \n",
       "2                 29532                        0.995852  \n",
       "3                 29655                        1.000000  "
      ]
     },
     "execution_count": 27,
     "metadata": {},
     "output_type": "execute_result"
    }
   ],
   "source": [
    "tabla_frec(ed, 'Educación')"
   ]
  },
  {
   "cell_type": "code",
   "execution_count": 71,
   "id": "fedbd244",
   "metadata": {},
   "outputs": [
    {
     "data": {
      "image/png": "[encoded data removed]",
      "text/plain": [
       "<Figure size 576x360 with 1 Axes>"
      ]
     },
     "metadata": {},
     "output_type": "display_data"
    }
   ],
   "source": [
    "sns.set(rc={'figure.figsize':(8, 5)})\n",
    "\n",
    "ec = df['COD_MARRIAGE'].value_counts().reset_index()\n",
    "ec.columns = ['Estado Civil', 'Cantidad de Clientes']\n",
    "ax = sns.barplot(x=ec['Estado Civil'], y =ec['Cantidad de Clientes'],palette=\"Greens_d\");\n",
    "plt.xlabel('')\n",
    "#plt.title('Educación')\n",
    "for p in ax.patches:\n",
    "    percentage = '{:.1f}%'.format(100 * p.get_height()/sum(defaults['Cantidad de Clientes']))\n",
    "    x = p.get_x() + p.get_width()-0.4\n",
    "    y = p.get_height() + 500\n",
    "    ax.annotate(percentage, (x, y),ha='center')\n",
    "plt.savefig('EstadoCivil.png', transparent=True, dpi=300, bbox_inches = \"tight\")"
   ]
  },
  {
   "cell_type": "code",
   "execution_count": 72,
   "id": "2deb56f8",
   "metadata": {},
   "outputs": [
    {
     "data": {
      "text/html": [
       "<div>\n",
       "<style scoped>\n",
       "    .dataframe tbody tr th:only-of-type {\n",
       "        vertical-align: middle;\n",
       "    }\n",
       "\n",
       "    .dataframe tbody tr th {\n",
       "        vertical-align: top;\n",
       "    }\n",
       "\n",
       "    .dataframe thead th {\n",
       "        text-align: right;\n",
       "    }\n",
       "</style>\n",
       "<table border=\"1\" class=\"dataframe\">\n",
       "  <thead>\n",
       "    <tr style=\"text-align: right;\">\n",
       "      <th></th>\n",
       "      <th>Estado Civil</th>\n",
       "      <th>Cantidad de Clientes</th>\n",
       "      <th>porcentaje_Estado Civil</th>\n",
       "      <th>acumulada__Estado Civil</th>\n",
       "      <th>acumulada_procentaje_Estado Civil</th>\n",
       "    </tr>\n",
       "  </thead>\n",
       "  <tbody>\n",
       "    <tr>\n",
       "      <th>0</th>\n",
       "      <td>Soltero</td>\n",
       "      <td>15964</td>\n",
       "      <td>0.532133</td>\n",
       "      <td>15964</td>\n",
       "      <td>0.532133</td>\n",
       "    </tr>\n",
       "    <tr>\n",
       "      <th>1</th>\n",
       "      <td>Casado</td>\n",
       "      <td>13659</td>\n",
       "      <td>0.455300</td>\n",
       "      <td>29623</td>\n",
       "      <td>0.987433</td>\n",
       "    </tr>\n",
       "    <tr>\n",
       "      <th>2</th>\n",
       "      <td>Otros</td>\n",
       "      <td>323</td>\n",
       "      <td>0.010767</td>\n",
       "      <td>29946</td>\n",
       "      <td>0.998200</td>\n",
       "    </tr>\n",
       "    <tr>\n",
       "      <th>3</th>\n",
       "      <td>Sin Información</td>\n",
       "      <td>54</td>\n",
       "      <td>0.001800</td>\n",
       "      <td>30000</td>\n",
       "      <td>1.000000</td>\n",
       "    </tr>\n",
       "  </tbody>\n",
       "</table>\n",
       "</div>"
      ],
      "text/plain": [
       "      Estado Civil  Cantidad de Clientes  porcentaje_Estado Civil  \\\n",
       "0          Soltero                 15964                 0.532133   \n",
       "1           Casado                 13659                 0.455300   \n",
       "2            Otros                   323                 0.010767   \n",
       "3  Sin Información                    54                 0.001800   \n",
       "\n",
       "   acumulada__Estado Civil  acumulada_procentaje_Estado Civil  \n",
       "0                    15964                           0.532133  \n",
       "1                    29623                           0.987433  \n",
       "2                    29946                           0.998200  \n",
       "3                    30000                           1.000000  "
      ]
     },
     "execution_count": 72,
     "metadata": {},
     "output_type": "execute_result"
    }
   ],
   "source": [
    "tabla_frec(ec, 'Estado Civil')"
   ]
  },
  {
   "cell_type": "code",
   "execution_count": 83,
   "id": "c3ef60a7",
   "metadata": {},
   "outputs": [
    {
     "data": {
      "image/png": "[encoded data removed]",
      "text/plain": [
       "<Figure size 576x360 with 1 Axes>"
      ]
     },
     "metadata": {},
     "output_type": "display_data"
    }
   ],
   "source": [
    "#Amount of the given credit\n",
    "ax = sns.histplot(df.LIMIT_BAL, bins = 50);\n",
    "\n",
    "# Change only ax2\n",
    "scale_x = 1e3\n",
    "ticks_x = ticker.FuncFormatter(lambda x, pos: '{0:g}'.format(x/scale_x))\n",
    "ax.xaxis.set_major_formatter(ticks_x)\n",
    "\n",
    "plt.xlabel('Monto [Miles de USD]')\n",
    "plt.ylabel('Cantidad de clientes')\n",
    "\n",
    "plt.savefig('montos.png', transparent=True, dpi=300, bbox_inches = \"tight\")"
   ]
  },
  {
   "cell_type": "code",
   "execution_count": 31,
   "id": "09edff63",
   "metadata": {},
   "outputs": [
    {
     "data": {
      "text/plain": [
       "count      30000.000000\n",
       "mean      167484.322667\n",
       "std       129747.661567\n",
       "min        10000.000000\n",
       "25%        50000.000000\n",
       "50%       140000.000000\n",
       "75%       240000.000000\n",
       "max      1000000.000000\n",
       "Name: LIMIT_BAL, dtype: float64"
      ]
     },
     "execution_count": 31,
     "metadata": {},
     "output_type": "execute_result"
    }
   ],
   "source": [
    "df.LIMIT_BAL.describe()"
   ]
  },
  {
   "cell_type": "code",
   "execution_count": 32,
   "id": "12b0f097",
   "metadata": {},
   "outputs": [
    {
     "data": {
      "text/plain": [
       "0    50000.0\n",
       "dtype: float64"
      ]
     },
     "execution_count": 32,
     "metadata": {},
     "output_type": "execute_result"
    }
   ],
   "source": [
    "df.LIMIT_BAL.mode()"
   ]
  },
  {
   "cell_type": "code",
   "execution_count": 92,
   "id": "e557db17",
   "metadata": {},
   "outputs": [
    {
     "name": "stderr",
     "output_type": "stream",
     "text": [
      "C:\\Users\\DELL\\anaconda3\\lib\\site-packages\\seaborn\\_decorators.py:43: FutureWarning: Pass the following variable as a keyword arg: x. From version 0.12, the only valid positional argument will be `data`, and passing other arguments without an explicit keyword will result in an error or misinterpretation.\n",
      "  FutureWarning\n"
     ]
    },
    {
     "data": {
      "image/png": "[encoded data removed]",
      "text/plain": [
       "<Figure size 576x360 with 1 Axes>"
      ]
     },
     "metadata": {},
     "output_type": "display_data"
    }
   ],
   "source": [
    "#Amount of the given credit\n",
    "ax = sns.boxplot(df.LIMIT_BAL);\n",
    "\n",
    "# Change only ax2\n",
    "scale_x = 1e3\n",
    "ticks_x = ticker.FuncFormatter(lambda x, pos: '{0:g}'.format(x/scale_x))\n",
    "ax.xaxis.set_major_formatter(ticks_x)\n",
    "\n",
    "plt.xlabel('Monto [Miles de USD]')\n",
    "plt.ylabel('Cantidad de clientes')\n",
    "\n",
    "plt.savefig('montos_bp.png', transparent=True, dpi=300, bbox_inches = \"tight\");"
   ]
  },
  {
   "cell_type": "code",
   "execution_count": 165,
   "id": "ac470ed9",
   "metadata": {},
   "outputs": [
    {
     "data": {
      "text/plain": [
       "count      30000.000000\n",
       "mean      167484.322667\n",
       "std       129747.661567\n",
       "min        10000.000000\n",
       "25%        50000.000000\n",
       "50%       140000.000000\n",
       "75%       240000.000000\n",
       "max      1000000.000000\n",
       "Name: LIMIT_BAL, dtype: float64"
      ]
     },
     "execution_count": 165,
     "metadata": {},
     "output_type": "execute_result"
    }
   ],
   "source": [
    "df.LIMIT_BAL.describe()"
   ]
  },
  {
   "cell_type": "code",
   "execution_count": 85,
   "id": "5d2409c0",
   "metadata": {},
   "outputs": [
    {
     "data": {
      "image/png": "[encoded data removed]",
      "text/plain": [
       "<Figure size 576x360 with 1 Axes>"
      ]
     },
     "metadata": {},
     "output_type": "display_data"
    }
   ],
   "source": [
    "#Amount of the given credit\n",
    "ax = sns.histplot(df.AGE, bins = 50);\n",
    "\n",
    "# Change only ax2\n",
    "#scale_x = 1e3\n",
    "#ticks_x = ticker.FuncFormatter(lambda x, pos: '{0:g}'.format(x/scale_x))\n",
    "#ax.xaxis.set_major_formatter(ticks_x)\n",
    "\n",
    "plt.xlabel('Edad')\n",
    "plt.ylabel('Cantidad de clientes')\n",
    "\n",
    "plt.savefig('edades.png', transparent=True, dpi=300, bbox_inches = \"tight\")"
   ]
  },
  {
   "cell_type": "code",
   "execution_count": 89,
   "id": "9eb5237d",
   "metadata": {},
   "outputs": [
    {
     "name": "stderr",
     "output_type": "stream",
     "text": [
      "C:\\Users\\DELL\\anaconda3\\lib\\site-packages\\seaborn\\_decorators.py:43: FutureWarning: Pass the following variable as a keyword arg: x. From version 0.12, the only valid positional argument will be `data`, and passing other arguments without an explicit keyword will result in an error or misinterpretation.\n",
      "  FutureWarning\n"
     ]
    },
    {
     "data": {
      "image/png": "[encoded data removed]",
      "text/plain": [
       "<Figure size 576x360 with 1 Axes>"
      ]
     },
     "metadata": {},
     "output_type": "display_data"
    }
   ],
   "source": [
    "#Amount of the given credit\n",
    "ax = sns.boxplot(df.AGE);\n",
    "\n",
    "# Change only ax2\n",
    "#scale_x = 1e3\n",
    "#ticks_x = ticker.FuncFormatter(lambda x, pos: '{0:g}'.format(x/scale_x))\n",
    "#ax.xaxis.set_major_formatter(ticks_x)\n",
    "\n",
    "plt.xlabel('Edad')\n",
    "plt.ylabel('Cantidad de clientes')\n",
    "\n",
    "plt.savefig('edades_bp.png', transparent=True, dpi=300, bbox_inches = \"tight\");"
   ]
  },
  {
   "cell_type": "markdown",
   "id": "0cd9f6df",
   "metadata": {},
   "source": [
    "-----"
   ]
  },
  {
   "cell_type": "markdown",
   "id": "00bf02f4",
   "metadata": {},
   "source": [
    "# Relaciones entre variables"
   ]
  },
  {
   "cell_type": "markdown",
   "id": "dcc52239",
   "metadata": {},
   "source": [
    "##### Default vs Genero"
   ]
  },
  {
   "cell_type": "code",
   "execution_count": 141,
   "id": "9918d6c4",
   "metadata": {},
   "outputs": [
    {
     "data": {
      "text/html": [
       "<div>\n",
       "<style scoped>\n",
       "    .dataframe tbody tr th:only-of-type {\n",
       "        vertical-align: middle;\n",
       "    }\n",
       "\n",
       "    .dataframe tbody tr th {\n",
       "        vertical-align: top;\n",
       "    }\n",
       "\n",
       "    .dataframe thead th {\n",
       "        text-align: right;\n",
       "    }\n",
       "</style>\n",
       "<table border=\"1\" class=\"dataframe\">\n",
       "  <thead>\n",
       "    <tr style=\"text-align: right;\">\n",
       "      <th></th>\n",
       "      <th>Hombre</th>\n",
       "      <th>Mujer</th>\n",
       "    </tr>\n",
       "    <tr>\n",
       "      <th>Default</th>\n",
       "      <th></th>\n",
       "      <th></th>\n",
       "    </tr>\n",
       "  </thead>\n",
       "  <tbody>\n",
       "    <tr>\n",
       "      <th>0</th>\n",
       "      <td>0.76</td>\n",
       "      <td>0.79</td>\n",
       "    </tr>\n",
       "    <tr>\n",
       "      <th>1</th>\n",
       "      <td>0.24</td>\n",
       "      <td>0.21</td>\n",
       "    </tr>\n",
       "  </tbody>\n",
       "</table>\n",
       "</div>"
      ],
      "text/plain": [
       "         Hombre  Mujer\n",
       "Default               \n",
       "0          0.76   0.79\n",
       "1          0.24   0.21"
      ]
     },
     "execution_count": 141,
     "metadata": {},
     "output_type": "execute_result"
    }
   ],
   "source": [
    "#Proporción de default entre hombres y mujeres\n",
    "pd.crosstab(df['default.payment.next.month'] , df.COD_SEX, rownames=['Default'], colnames=['']).apply(lambda r:r/r.sum(),axis=0).round(2)"
   ]
  },
  {
   "cell_type": "code",
   "execution_count": 140,
   "id": "07b5a5de",
   "metadata": {},
   "outputs": [
    {
     "name": "stdout",
     "output_type": "stream",
     "text": [
      "Valor P: 2.236402167907072e-12\n"
     ]
    }
   ],
   "source": [
    "#Proporción de default entre hombres y mujeres - prueba de hipótesis\n",
    "n_hombres = len(df[df.COD_SEX == 'Hombre'])\n",
    "n_mujeres = len(df[df.COD_SEX == 'Mujer'])\n",
    "defaults_hombres = df[df.COD_SEX == 'Hombre']['default.payment.next.month'].sum()\n",
    "defaults_mujeres = df[df.COD_SEX == 'Mujer']['default.payment.next.month'].sum()\n",
    "\n",
    "defaults  = np.array([defaults_hombres, defaults_mujeres])\n",
    "totales = np.array([n_hombres, n_mujeres])\n",
    "\n",
    "stat, pval = proportions_ztest(defaults, totales, alternative='larger')\n",
    "print('Valor P: {}'.format(pval))"
   ]
  },
  {
   "cell_type": "markdown",
   "id": "999de1da",
   "metadata": {},
   "source": [
    "##### Default vs Estado civil"
   ]
  },
  {
   "cell_type": "code",
   "execution_count": 143,
   "id": "be9d9059",
   "metadata": {},
   "outputs": [
    {
     "data": {
      "text/html": [
       "<div>\n",
       "<style scoped>\n",
       "    .dataframe tbody tr th:only-of-type {\n",
       "        vertical-align: middle;\n",
       "    }\n",
       "\n",
       "    .dataframe tbody tr th {\n",
       "        vertical-align: top;\n",
       "    }\n",
       "\n",
       "    .dataframe thead th {\n",
       "        text-align: right;\n",
       "    }\n",
       "</style>\n",
       "<table border=\"1\" class=\"dataframe\">\n",
       "  <thead>\n",
       "    <tr style=\"text-align: right;\">\n",
       "      <th></th>\n",
       "      <th>Casado</th>\n",
       "      <th>Soltero</th>\n",
       "      <th>Sin Información</th>\n",
       "      <th>Otros</th>\n",
       "    </tr>\n",
       "    <tr>\n",
       "      <th>Default</th>\n",
       "      <th></th>\n",
       "      <th></th>\n",
       "      <th></th>\n",
       "      <th></th>\n",
       "    </tr>\n",
       "  </thead>\n",
       "  <tbody>\n",
       "    <tr>\n",
       "      <th>0</th>\n",
       "      <td>0.77</td>\n",
       "      <td>0.79</td>\n",
       "      <td>0.91</td>\n",
       "      <td>0.74</td>\n",
       "    </tr>\n",
       "    <tr>\n",
       "      <th>1</th>\n",
       "      <td>0.23</td>\n",
       "      <td>0.21</td>\n",
       "      <td>0.09</td>\n",
       "      <td>0.26</td>\n",
       "    </tr>\n",
       "  </tbody>\n",
       "</table>\n",
       "</div>"
      ],
      "text/plain": [
       "         Casado  Soltero  Sin Información  Otros\n",
       "Default                                         \n",
       "0          0.77     0.79             0.91   0.74\n",
       "1          0.23     0.21             0.09   0.26"
      ]
     },
     "execution_count": 143,
     "metadata": {},
     "output_type": "execute_result"
    }
   ],
   "source": [
    "pd.crosstab(df['default.payment.next.month'] , df.COD_MARRIAGE, rownames=['Default'], colnames=['']).apply(lambda r:r/r.sum(),axis=0)[['Casado', 'Soltero', 'Sin Información', 'Otros']] .round(2)"
   ]
  },
  {
   "cell_type": "code",
   "execution_count": 139,
   "id": "950b8cc7",
   "metadata": {},
   "outputs": [
    {
     "name": "stdout",
     "output_type": "stream",
     "text": [
      "Valor P: 7.242571714906423e-08\n"
     ]
    }
   ],
   "source": [
    "import numpy as np\n",
    "from statsmodels.stats.proportion import proportions_ztest\n",
    "n_casados = len(df[df.COD_MARRIAGE == 'Casado'])\n",
    "n_solteros = len(df[df.COD_MARRIAGE == 'Soltero'])\n",
    "defaults_casados = df[df.COD_MARRIAGE == 'Casado']['default.payment.next.month'].sum()\n",
    "defaults_solteros = df[df.COD_MARRIAGE == 'Soltero']['default.payment.next.month'].sum()\n",
    "\n",
    "defaults  = np.array([defaults_casados, defaults_solteros])\n",
    "totales = np.array([n_casados, n_solteros])\n",
    "\n",
    "stat, pval = proportions_ztest(defaults, totales, alternative='larger')\n",
    "print('Valor P: {}'.format(pval))"
   ]
  },
  {
   "cell_type": "markdown",
   "id": "4b358237",
   "metadata": {},
   "source": [
    "##### Default vs Educación"
   ]
  },
  {
   "cell_type": "code",
   "execution_count": 146,
   "id": "df0696ea",
   "metadata": {},
   "outputs": [
    {
     "data": {
      "text/html": [
       "<div>\n",
       "<style scoped>\n",
       "    .dataframe tbody tr th:only-of-type {\n",
       "        vertical-align: middle;\n",
       "    }\n",
       "\n",
       "    .dataframe tbody tr th {\n",
       "        vertical-align: top;\n",
       "    }\n",
       "\n",
       "    .dataframe thead th {\n",
       "        text-align: right;\n",
       "    }\n",
       "</style>\n",
       "<table border=\"1\" class=\"dataframe\">\n",
       "  <thead>\n",
       "    <tr style=\"text-align: right;\">\n",
       "      <th></th>\n",
       "      <th>Bachillerato</th>\n",
       "      <th>Universitario</th>\n",
       "      <th>Posgrado</th>\n",
       "      <th>Otros</th>\n",
       "      <th>Sin Información</th>\n",
       "    </tr>\n",
       "    <tr>\n",
       "      <th>Default</th>\n",
       "      <th></th>\n",
       "      <th></th>\n",
       "      <th></th>\n",
       "      <th></th>\n",
       "      <th></th>\n",
       "    </tr>\n",
       "  </thead>\n",
       "  <tbody>\n",
       "    <tr>\n",
       "      <th>0</th>\n",
       "      <td>0.75</td>\n",
       "      <td>0.76</td>\n",
       "      <td>0.81</td>\n",
       "      <td>0.94</td>\n",
       "      <td>0.92</td>\n",
       "    </tr>\n",
       "    <tr>\n",
       "      <th>1</th>\n",
       "      <td>0.25</td>\n",
       "      <td>0.24</td>\n",
       "      <td>0.19</td>\n",
       "      <td>0.06</td>\n",
       "      <td>0.08</td>\n",
       "    </tr>\n",
       "  </tbody>\n",
       "</table>\n",
       "</div>"
      ],
      "text/plain": [
       "         Bachillerato  Universitario  Posgrado  Otros  Sin Información\n",
       "Default                                                               \n",
       "0                0.75           0.76      0.81   0.94             0.92\n",
       "1                0.25           0.24      0.19   0.06             0.08"
      ]
     },
     "execution_count": 146,
     "metadata": {},
     "output_type": "execute_result"
    }
   ],
   "source": [
    "pd.crosstab(df['default.payment.next.month'] , df.COD_EDUCATION, rownames=['Default'], colnames=['']).apply(lambda r:r/r.sum(),axis=0)[['Bachillerato', 'Universitario', 'Posgrado', 'Otros', 'Sin Información']] .round(2)"
   ]
  },
  {
   "cell_type": "code",
   "execution_count": 138,
   "id": "fc4f19e1",
   "metadata": {},
   "outputs": [
    {
     "name": "stdout",
     "output_type": "stream",
     "text": [
      "Bachillerato - Universitario: Valor P: 0.044730341938218066\n",
      "Universitario - Posgrado: Valor P: 1.2724828443089622e-17\n"
     ]
    }
   ],
   "source": [
    "import numpy as np\n",
    "from statsmodels.stats.proportion import proportions_ztest\n",
    "n_bachillerato = len(df[df.COD_EDUCATION == 'Bachillerato'])\n",
    "n_universitario = len(df[df.COD_EDUCATION == 'Universitario'])\n",
    "n_posgrado = len(df[df.COD_EDUCATION == 'Posgrado'])\n",
    "\n",
    "defaults_bachillerato = df[df.COD_EDUCATION == 'Bachillerato']['default.payment.next.month'].sum()\n",
    "defaults_universitario = df[df.COD_EDUCATION == 'Universitario']['default.payment.next.month'].sum()\n",
    "defaults_posgrado = df[df.COD_EDUCATION == 'Posgrado']['default.payment.next.month'].sum()\n",
    "\n",
    "defaults  = np.array([defaults_bachillerato, defaults_universitario])\n",
    "totales = np.array([n_bachillerato, n_universitario])\n",
    "\n",
    "stat, pval = proportions_ztest(defaults, totales)\n",
    "print('Bachillerato - Universitario: Valor P: {}'.format(pval))\n",
    "\n",
    "defaults  = np.array([defaults_universitario, defaults_posgrado])\n",
    "totales = np.array([n_universitario, n_posgrado])\n",
    "\n",
    "stat, pval = proportions_ztest(defaults, totales, alternative='larger')\n",
    "print('Universitario - Posgrado: Valor P: {}'.format(pval))"
   ]
  },
  {
   "cell_type": "markdown",
   "id": "58ef519f",
   "metadata": {},
   "source": [
    "##### Default vs Edad"
   ]
  },
  {
   "cell_type": "code",
   "execution_count": 110,
   "id": "3d28d3b6",
   "metadata": {},
   "outputs": [
    {
     "data": {
      "text/html": [
       "<div>\n",
       "<style scoped>\n",
       "    .dataframe tbody tr th:only-of-type {\n",
       "        vertical-align: middle;\n",
       "    }\n",
       "\n",
       "    .dataframe tbody tr th {\n",
       "        vertical-align: top;\n",
       "    }\n",
       "\n",
       "    .dataframe thead th {\n",
       "        text-align: right;\n",
       "    }\n",
       "</style>\n",
       "<table border=\"1\" class=\"dataframe\">\n",
       "  <thead>\n",
       "    <tr style=\"text-align: right;\">\n",
       "      <th></th>\n",
       "      <th>AGE</th>\n",
       "    </tr>\n",
       "    <tr>\n",
       "      <th>default.payment.next.month</th>\n",
       "      <th></th>\n",
       "    </tr>\n",
       "  </thead>\n",
       "  <tbody>\n",
       "    <tr>\n",
       "      <th>0</th>\n",
       "      <td>35.42</td>\n",
       "    </tr>\n",
       "    <tr>\n",
       "      <th>1</th>\n",
       "      <td>35.73</td>\n",
       "    </tr>\n",
       "  </tbody>\n",
       "</table>\n",
       "</div>"
      ],
      "text/plain": [
       "                              AGE\n",
       "default.payment.next.month       \n",
       "0                           35.42\n",
       "1                           35.73"
      ]
     },
     "execution_count": 110,
     "metadata": {},
     "output_type": "execute_result"
    }
   ],
   "source": [
    "df[['default.payment.next.month', 'AGE']].groupby('default.payment.next.month').mean().round(2)"
   ]
  },
  {
   "cell_type": "code",
   "execution_count": 161,
   "id": "c3810697",
   "metadata": {},
   "outputs": [
    {
     "data": {
      "image/png": "[encoded data removed]",
      "text/plain": [
       "<Figure size 576x360 with 1 Axes>"
      ]
     },
     "metadata": {},
     "output_type": "display_data"
    }
   ],
   "source": [
    "ax = sns.boxplot(x=\"default.payment.next.month\", y=\"AGE\", data=df)\n",
    "plt.xlabel('Default');\n",
    "plt.savefig('hip_test/edades.png', transparent=True, dpi=300, bbox_inches = \"tight\");"
   ]
  },
  {
   "cell_type": "code",
   "execution_count": 162,
   "id": "d662644c",
   "metadata": {},
   "outputs": [
    {
     "data": {
      "image/png": "[encoded data removed]",
      "text/plain": [
       "<Figure size 576x360 with 1 Axes>"
      ]
     },
     "metadata": {},
     "output_type": "display_data"
    }
   ],
   "source": [
    "a = df[['default.payment.next.month', 'AGE']].groupby('default.payment.next.month').mean().round(2).reset_index()\n",
    "a.columns = ['Default', 'Edad Promedio']\n",
    "ax = sns.barplot(x=a['Default'], y =a['Edad Promedio'],palette=\"Greens_d\");\n",
    "plt.savefig('hip_test/edades_prom.png', transparent=True, dpi=300, bbox_inches = \"tight\");"
   ]
  },
  {
   "cell_type": "code",
   "execution_count": 131,
   "id": "30da67fc",
   "metadata": {
    "scrolled": true
   },
   "outputs": [
    {
     "name": "stdout",
     "output_type": "stream",
     "text": [
      "Valor de t: -2.40594177499625\n",
      "Valor p: 0.01613684589016383\n"
     ]
    }
   ],
   "source": [
    "#valor de t y p \n",
    "edad_0 = df[df['default.payment.next.month'] == 0].AGE\n",
    "edad_1 = df[df['default.payment.next.month'] == 1].AGE\n",
    "ttest,pval = ttest_ind(edad_0,edad_1)\n",
    "print('Valor de t: '+str(ttest))\n",
    "print('Valor p: '+ str(pval))"
   ]
  },
  {
   "cell_type": "markdown",
   "id": "0897d556",
   "metadata": {},
   "source": [
    "##### Default vs Monto"
   ]
  },
  {
   "cell_type": "code",
   "execution_count": 109,
   "id": "86220b0e",
   "metadata": {},
   "outputs": [
    {
     "data": {
      "text/html": [
       "<div>\n",
       "<style scoped>\n",
       "    .dataframe tbody tr th:only-of-type {\n",
       "        vertical-align: middle;\n",
       "    }\n",
       "\n",
       "    .dataframe tbody tr th {\n",
       "        vertical-align: top;\n",
       "    }\n",
       "\n",
       "    .dataframe thead th {\n",
       "        text-align: right;\n",
       "    }\n",
       "</style>\n",
       "<table border=\"1\" class=\"dataframe\">\n",
       "  <thead>\n",
       "    <tr style=\"text-align: right;\">\n",
       "      <th></th>\n",
       "      <th>LIMIT_BAL</th>\n",
       "    </tr>\n",
       "    <tr>\n",
       "      <th>default.payment.next.month</th>\n",
       "      <th></th>\n",
       "    </tr>\n",
       "  </thead>\n",
       "  <tbody>\n",
       "    <tr>\n",
       "      <th>0</th>\n",
       "      <td>178099.73</td>\n",
       "    </tr>\n",
       "    <tr>\n",
       "      <th>1</th>\n",
       "      <td>130109.66</td>\n",
       "    </tr>\n",
       "  </tbody>\n",
       "</table>\n",
       "</div>"
      ],
      "text/plain": [
       "                            LIMIT_BAL\n",
       "default.payment.next.month           \n",
       "0                           178099.73\n",
       "1                           130109.66"
      ]
     },
     "execution_count": 109,
     "metadata": {},
     "output_type": "execute_result"
    }
   ],
   "source": [
    "df[['default.payment.next.month', 'LIMIT_BAL']].groupby('default.payment.next.month').mean().round(2)"
   ]
  },
  {
   "cell_type": "code",
   "execution_count": 163,
   "id": "2cf9c132",
   "metadata": {},
   "outputs": [
    {
     "data": {
      "image/png": "[encoded data removed]",
      "text/plain": [
       "<Figure size 576x360 with 1 Axes>"
      ]
     },
     "metadata": {},
     "output_type": "display_data"
    }
   ],
   "source": [
    "a = df[['default.payment.next.month', 'LIMIT_BAL']].groupby('default.payment.next.month').mean().round(2).reset_index()\n",
    "a.columns = ['Default', 'Monto Promedio']\n",
    "ax = sns.barplot(x=a['Default'], y =a['Monto Promedio'],palette=\"Greens_d\");\n",
    "plt.savefig('hip_test/montos_prom.png', transparent=True, dpi=300, bbox_inches = \"tight\");"
   ]
  },
  {
   "cell_type": "code",
   "execution_count": 164,
   "id": "ae653691",
   "metadata": {
    "scrolled": true
   },
   "outputs": [
    {
     "data": {
      "image/png": "[encoded data removed]",
      "text/plain": [
       "<Figure size 576x360 with 1 Axes>"
      ]
     },
     "metadata": {},
     "output_type": "display_data"
    }
   ],
   "source": [
    "ax = sns.boxplot(x=\"default.payment.next.month\", y=\"LIMIT_BAL\", data=df)\n",
    "\n",
    "scale_y = 1e3\n",
    "ticks_y = ticker.FuncFormatter(lambda x, pos: '{0:g}'.format(x/scale_x))\n",
    "ax.yaxis.set_major_formatter(ticks_y)\n",
    "\n",
    "plt.ylabel('Monto [Miles de USD]');\n",
    "plt.xlabel('Default');\n",
    "plt.savefig('hip_test/montos.png', transparent=True, dpi=300, bbox_inches = \"tight\");"
   ]
  },
  {
   "cell_type": "code",
   "execution_count": 132,
   "id": "7fdca89b",
   "metadata": {},
   "outputs": [
    {
     "name": "stdout",
     "output_type": "stream",
     "text": [
      "Valor de t: 26.908521684796522\n",
      "Valor p: 1.3022439532597397e-157\n"
     ]
    }
   ],
   "source": [
    "#valor de t y p \n",
    "valor_0 = df[df['default.payment.next.month'] == 0].LIMIT_BAL\n",
    "valor_1 = df[df['default.payment.next.month'] == 1].LIMIT_BAL\n",
    "ttest,pval = ttest_ind(valor_0, valor_1)\n",
    "print('Valor de t: '+str(ttest))\n",
    "print('Valor p: '+ str(pval))"
   ]
  }
 ],
 "metadata": {
  "kernelspec": {
   "display_name": "Python 3",
   "language": "python",
   "name": "python3"
  },
  "language_info": {
   "codemirror_mode": {
    "name": "ipython",
    "version": 3
   },
   "file_extension": ".py",
   "mimetype": "text/x-python",
   "name": "python",
   "nbconvert_exporter": "python",
   "pygments_lexer": "ipython3",
   "version": "3.7.6"
  }
 },
 "nbformat": 4,
 "nbformat_minor": 5
}
